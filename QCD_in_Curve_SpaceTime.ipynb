{
 "cells": [
  {
   "cell_type": "markdown",
   "metadata": {
    "id": "_veFkRsRcIcH"
   },
   "source": [
    "# QCD in Curve Space-Time\n",
    "------"
   ]
  },
  {
   "cell_type": "markdown",
   "metadata": {},
   "source": [
    "# Quantum Chromodynamics (QCD) in curved spacetime \r\n",
    "By using **SymPy** for symbolic computation. It defines the Lagrangian density for quarks and gluons, incorporating key components such as the metric determinant, gamma matrice $\\gamma$s, covariant derivatives, and gluon field strength tensors. \r\n",
    "\r\n",
    "The main function, `euler_lagrange`, computes the equations of motion for a given field by:\r\n",
    "1. Deriving partial derivatives of the Lagrangian with respect to the field and its derivatives.\r\n",
    "2. Calculating the divergence of the derivative terms.\r\n",
    "3. Ensuring matrix compatibility to handle potential shape mismatches during subtraction.\r\n",
    "\r\n",
    "Finally, the script outputs the QCD Lagrangian and the resulting equations of motion for quarks and gluons."
   ]
  },
  {
   "cell_type": "code",
   "execution_count": null,
   "metadata": {},
   "outputs": [],
   "source": [
    "import sympy as sp"
   ]
  },
  {
   "cell_type": "code",
   "execution_count": 108,
   "metadata": {
    "colab": {
     "base_uri": "https://localhost:8080/"
    },
    "id": "ShPtXwGTeczn",
    "outputId": "7d94c04e-3877-46d0-c1f0-5636b7ae2994"
   },
   "outputs": [
    {
     "name": "stdout",
     "output_type": "stream",
     "text": [
      "QCD Lagrangian in Curved Spacetime:\n",
      "  ________________                                    _____________          ________________   ⎛  ↪\n",
      "╲╱ -g(t, x, y, z) ⋅(-4⋅m + ⅈ⋅tr(γ⋅Dₘᵤ))⋅ψ(t, x, y, z)⋅ψ(t, x, y, z) - 0.25⋅╲╱ -g(t, x, y, z) ⋅tr⎝F ↪\n",
      "\n",
      "↪      T       ⎞\n",
      "↪ ₘᵤ ₙᵤ ⋅Fₘᵤ ₙᵤ⎠\n",
      "\n",
      "Equations of Motion for Quarks:\n",
      "⎡  ________________                     ⎛                      ∂       ⎛_____________⎞   _________ ↪\n",
      "⎢╲╱ -g(t, x, y, z) ⋅(4⋅m - ⅈ⋅tr(γ⋅Dₘᵤ))⋅⎜- ψ(t, x, y, z)⋅──────────────⎝ψ(t, x, y, z)⎠ - ψ(t, x, y ↪\n",
      "⎣                                       ⎝                ∂ψ(t, x, y, z)                            ↪\n",
      "\n",
      "↪ ____⎞⎤\n",
      "↪ , z)⎟⎥\n",
      "↪     ⎠⎦\n",
      "\n",
      "Equations of Motion for Gluons:\n",
      "[0]\n"
     ]
    }
   ],
   "source": [
    "# Define spacetime coordinates\n",
    "t, x, y, z = sp.symbols('t x y z')\n",
    "coords = (t, x, y, z)\n",
    "\n",
    "# Metric determinant and fields\n",
    "g = sp.Function('g')(t, x, y, z)  # Metric determinant sqrt(-g)\n",
    "psi = sp.Function('psi')(t, x, y, z)  # Quark field\n",
    "A_mu = sp.Function('A_mu')(t, x, y, z)  # Gluon field\n",
    "\n",
    "# Gamma matrices and other terms\n",
    "gamma_mu = sp.MatrixSymbol('gamma', 4, 4)  # Gamma matrices\n",
    "D_mu = sp.MatrixSymbol('D_mu', 4, 4)  # Covariant derivative\n",
    "F_mu_nu = sp.MatrixSymbol('F_mu_nu', 4, 4)  # Gluon field strength tensor\n",
    "mass = sp.symbols('m')\n",
    "g_s = sp.symbols('g_s')  # Strong coupling constant\n",
    "\n",
    "# Quark and gluon Lagrangians using trace for matrix terms\n",
    "L_quark = sp.sqrt(-g) * sp.trace(sp.conjugate(psi) @ (sp.I * gamma_mu @ D_mu - mass * sp.eye(4)) @ psi)\n",
    "L_gluon = -sp.sqrt(-g) * (1 / 4) * sp.trace(F_mu_nu.T @ F_mu_nu)\n",
    "\n",
    "# Total Lagrangian\n",
    "L_qcd = L_quark + L_gluon\n",
    "\n",
    "# Functional approach to the Euler-Lagrange equation\n",
    "def compute_dL_dfield(L, field):\n",
    "    \"\"\"Compute the partial derivative of the Lagrangian with respect to the field.\"\"\"\n",
    "    return sp.diff(L, field)\n",
    "\n",
    "def compute_dL_dfield_deriv(L, field, coords):\n",
    "    \"\"\"Compute the partial derivative of the Lagrangian with respect to the field's derivative.\"\"\"\n",
    "    return sp.Matrix([sp.diff(L, sp.diff(field, coord)) for coord in coords])\n",
    "\n",
    "def compute_divergence(dL_dfield_deriv, coords):\n",
    "    \"\"\"Compute the divergence of the derivative term.\"\"\"\n",
    "    return sp.Matrix([sp.diff(dL_dfield_deriv[i], coords[i]) for i in range(len(coords))])\n",
    "\n",
    "def euler_lagrange(L, field, coords):\n",
    "    \"\"\"Compute the Euler-Lagrange equation for a given Lagrangian and field.\"\"\"\n",
    "    dL_dfield = compute_dL_dfield(L, field)\n",
    "    dL_dfield_deriv = compute_dL_dfield_deriv(L, field, coords)\n",
    "    divergence_term = compute_divergence(dL_dfield_deriv, coords)\n",
    "\n",
    "    # Convert both terms to matrices of the same shape\n",
    "    if isinstance(dL_dfield, sp.Matrix):\n",
    "        dL_dfield = dL_dfield\n",
    "    else:\n",
    "        dL_dfield = sp.Matrix([dL_dfield])\n",
    "\n",
    "    # Ensure divergence_term is also a matrix with compatible shape\n",
    "    if isinstance(divergence_term, sp.Matrix):\n",
    "        divergence_term = divergence_term\n",
    "    else:\n",
    "        divergence_term = sp.Matrix([divergence_term])\n",
    "\n",
    "    # Ensure both matrices have the same number of rows and columns (e.g., (4, 1))\n",
    "    if dL_dfield.shape != divergence_term.shape:\n",
    "        # Make sure the scalar term is properly expanded to match the shape of the matrix\n",
    "        divergence_term = sp.Matrix([divergence_term[i] for i in range(dL_dfield.shape[0])])\n",
    "\n",
    "    return sp.simplify(dL_dfield - divergence_term)\n",
    "\n",
    "# Derive equations of motion for quarks and gluons\n",
    "EOM_quark = euler_lagrange(L_qcd, psi, coords)\n",
    "EOM_gluon = euler_lagrange(L_qcd, A_mu, coords)\n",
    "\n",
    "# Output results\n",
    "def print_results():\n",
    "    \"\"\"Print the results of the Lagrangian and equations of motion.\"\"\"\n",
    "    print(\"QCD Lagrangian in Curved Spacetime:\")\n",
    "    sp.pprint(L_qcd)\n",
    "    print(\"\\nEquations of Motion for Quarks:\")\n",
    "    sp.pprint(EOM_quark)\n",
    "    print(\"\\nEquations of Motion for Gluons:\")\n",
    "    sp.pprint(EOM_gluon)\n",
    "\n",
    "# Print the results\n",
    "print_results()\n"
   ]
  },
  {
   "cell_type": "code",
   "execution_count": 86,
   "metadata": {
    "id": "UgLVBMbIe3Yf"
   },
   "outputs": [],
   "source": [
    "# Define spacetime and metric\n",
    "x, y, z, t = sp.symbols('x y z t')\n",
    "coords = (t, x, y, z)\n",
    "g = sp.Function('g')(t, x, y, z)  # Metric determinant sqrt(-g)\n",
    "\n",
    "# Define fields\n",
    "psi = sp.Function('psi')(t, x, y, z)  # Quark field\n",
    "A_mu = sp.Function('A_mu')(t, x, y, z)  # Gluon field (now a vector field)\n",
    "\n",
    "# Gamma matrices and other terms remain the same\n",
    "gamma_mu = sp.MatrixSymbol('gamma', 4, 4)  # Gamma matrices\n",
    "D_mu = sp.MatrixSymbol('D_mu', 4, 4)  # Covariant derivative (MatrixSymbol here)\n",
    "\n",
    "# Gluon field strength tensor remains a MatrixSymbol\n",
    "F_mu_nu = sp.MatrixSymbol('F_mu_nu', 4, 4)\n",
    "G_mu_nu = sp.MatrixSymbol('G_mu_nu', 4, 4)\n",
    "\n",
    "# Lagrangian components remain the same\n",
    "mass = sp.symbols('m')\n",
    "g_s = sp.symbols('g_s')  # Strong coupling constant"
   ]
  },
  {
   "cell_type": "code",
   "execution_count": 90,
   "metadata": {
    "id": "S4tU8MCdegzW"
   },
   "outputs": [],
   "source": [
    "# Compute the Action: Integral of L_qcd over spacetime\n",
    "# Assuming spacetime bounds: t ∈ [t0, t1], x, y, z ∈ [-∞, ∞]\n",
    "t0, t1 = sp.symbols('t0 t1')\n",
    "action = sp.integrate( sp.integrate( sp.integrate( sp.integrate(L_qcd, (t, t0, t1)), (x, -sp.oo, sp.oo) ), (y, -sp.oo, sp.oo) ), (z, -sp.oo, sp.oo) )"
   ]
  },
  {
   "cell_type": "code",
   "execution_count": 106,
   "metadata": {
    "colab": {
     "base_uri": "https://localhost:8080/",
     "height": 95
    },
    "id": "wuZJWC63gpkt",
    "outputId": "9a8bd8e2-bb49-423e-809e-c76c3245e9ff"
   },
   "outputs": [
    {
     "name": "stdout",
     "output_type": "stream",
     "text": [
      "\n",
      "L_quark:\n",
      "\n"
     ]
    },
    {
     "data": {
      "text/latex": [
       "$\\displaystyle \\sqrt{- g{\\left(t,x,y,z \\right)}} \\left(- 4 m + i \\operatorname{tr}\\left(\\gamma D_{\\mu} \\right)\\right) \\psi{\\left(t,x,y,z \\right)} \\overline{\\psi{\\left(t,x,y,z \\right)}}$"
      ],
      "text/plain": [
       "sqrt(-g(t, x, y, z))*(-4*m + I*Trace(gamma*D_mu))*psi(t, x, y, z)*conjugate(psi(t, x, y, z))"
      ]
     },
     "execution_count": 106,
     "metadata": {},
     "output_type": "execute_result"
    }
   ],
   "source": [
    "print(\"\\nL_quark:\\n\")\n",
    "L_quark"
   ]
  },
  {
   "cell_type": "code",
   "execution_count": 109,
   "metadata": {
    "colab": {
     "base_uri": "https://localhost:8080/",
     "height": 95
    },
    "id": "B368QcSagp09",
    "outputId": "60bae078-8cea-45d2-c10d-3ceda7a0001e"
   },
   "outputs": [
    {
     "name": "stdout",
     "output_type": "stream",
     "text": [
      "\n",
      "L_gluon:\n",
      "\n"
     ]
    },
    {
     "data": {
      "text/latex": [
       "$\\displaystyle - 0.25 \\sqrt{- g{\\left(t,x,y,z \\right)}} \\operatorname{tr}\\left(F_{\\mu \\nu}^{T} F_{\\mu \\nu} \\right)$"
      ],
      "text/plain": [
       "-0.25*sqrt(-g(t, x, y, z))*Trace(F_mu_nu.T*F_mu_nu)"
      ]
     },
     "execution_count": 109,
     "metadata": {},
     "output_type": "execute_result"
    }
   ],
   "source": [
    "print(\"\\nL_gluon:\\n\")\n",
    "L_gluon"
   ]
  },
  {
   "cell_type": "code",
   "execution_count": 104,
   "metadata": {
    "colab": {
     "base_uri": "https://localhost:8080/",
     "height": 95
    },
    "id": "uiQo43SlgjY8",
    "outputId": "f2af25d4-41b4-457a-8a89-c1f5720e9469"
   },
   "outputs": [
    {
     "name": "stdout",
     "output_type": "stream",
     "text": [
      "\n",
      "L_qcd:\n",
      "\n"
     ]
    },
    {
     "data": {
      "text/latex": [
       "$\\displaystyle \\sqrt{- g{\\left(t,x,y,z \\right)}} \\left(- 4 m + i \\operatorname{tr}\\left(\\gamma D_{\\mu} \\right)\\right) \\psi{\\left(t,x,y,z \\right)} \\overline{\\psi{\\left(t,x,y,z \\right)}} - 0.25 \\sqrt{- g{\\left(t,x,y,z \\right)}} \\operatorname{tr}\\left(F_{\\mu \\nu}^{T} F_{\\mu \\nu} \\right)$"
      ],
      "text/plain": [
       "sqrt(-g(t, x, y, z))*(-4*m + I*Trace(gamma*D_mu))*psi(t, x, y, z)*conjugate(psi(t, x, y, z)) - 0.25*sqrt(-g(t, x, y, z))*Trace(F_mu_nu.T*F_mu_nu)"
      ]
     },
     "execution_count": 104,
     "metadata": {},
     "output_type": "execute_result"
    }
   ],
   "source": [
    "print(\"\\nL_qcd:\\n\")\n",
    "L_qcd"
   ]
  },
  {
   "cell_type": "code",
   "execution_count": 111,
   "metadata": {
    "colab": {
     "base_uri": "https://localhost:8080/",
     "height": 102
    },
    "id": "fGstvZq7hR4h",
    "outputId": "f72fc50c-518d-47dd-f1d7-8be8ef4a3a2e"
   },
   "outputs": [
    {
     "name": "stdout",
     "output_type": "stream",
     "text": [
      "\n",
      "Equation of Motion:\n",
      "\n"
     ]
    },
    {
     "data": {
      "text/latex": [
       "$\\displaystyle \\left[\\begin{matrix}\\sqrt{- g{\\left(t,x,y,z \\right)}} \\left(4 m - i \\operatorname{tr}\\left(\\gamma D_{\\mu} \\right)\\right) \\left(- \\psi{\\left(t,x,y,z \\right)} \\frac{\\partial}{\\partial \\psi{\\left(t,x,y,z \\right)}} \\overline{\\psi{\\left(t,x,y,z \\right)}} - \\overline{\\psi{\\left(t,x,y,z \\right)}}\\right)\\end{matrix}\\right]$"
      ],
      "text/plain": [
       "Matrix([[sqrt(-g(t, x, y, z))*(4*m - I*Trace(gamma*D_mu))*(-psi(t, x, y, z)*Derivative(conjugate(psi(t, x, y, z)), psi(t, x, y, z)) - conjugate(psi(t, x, y, z)))]])"
      ]
     },
     "execution_count": 111,
     "metadata": {},
     "output_type": "execute_result"
    }
   ],
   "source": [
    "EoM = EOM_quark + EOM_gluon\n",
    "print(\"\\nEquation of Motion:\\n\")\n",
    "EoM"
   ]
  },
  {
   "cell_type": "code",
   "execution_count": 91,
   "metadata": {
    "colab": {
     "base_uri": "https://localhost:8080/",
     "height": 135
    },
    "id": "z-LA-5thfLfk",
    "outputId": "e2f75ef9-b4e5-4ecd-fdc8-3f34cd0bdcf8"
   },
   "outputs": [
    {
     "name": "stdout",
     "output_type": "stream",
     "text": [
      "\n",
      "Action of L_qcd:\n",
      "\n"
     ]
    },
    {
     "data": {
      "text/latex": [
       "$\\displaystyle \\int\\limits_{-\\infty}^{\\infty}\\int\\limits_{-\\infty}^{\\infty}\\int\\limits_{-\\infty}^{\\infty}\\int\\limits_{t_{0}}^{t_{1}} \\sqrt{- g{\\left(t,x,y,z \\right)}} \\left(- 4.0 m \\psi{\\left(t,x,y,z \\right)} \\overline{\\psi{\\left(t,x,y,z \\right)}} + 1.0 i \\psi{\\left(t,x,y,z \\right)} \\overline{\\psi{\\left(t,x,y,z \\right)}} \\operatorname{tr}\\left(\\gamma D_{\\mu} \\right) - 0.25 \\operatorname{tr}\\left(F_{\\mu \\nu}^{T} F_{\\mu \\nu} \\right)\\right)\\, dt\\, dx\\, dy\\, dz$"
      ],
      "text/plain": [
       "Integral(sqrt(-g(t, x, y, z))*(-4.0*m*psi(t, x, y, z)*conjugate(psi(t, x, y, z)) + 1.0*I*psi(t, x, y, z)*conjugate(psi(t, x, y, z))*Trace(gamma*D_mu) - 0.25*Trace(F_mu_nu.T*F_mu_nu)), (t, t0, t1), (x, -oo, oo), (y, -oo, oo), (z, -oo, oo))"
      ]
     },
     "execution_count": 91,
     "metadata": {},
     "output_type": "execute_result"
    }
   ],
   "source": [
    "print(\"\\nAction of L_qcd:\\n\")\n",
    "action"
   ]
  },
  {
   "cell_type": "code",
   "execution_count": 92,
   "metadata": {
    "id": "iYg6ReDYec2P"
   },
   "outputs": [],
   "source": [
    "# Framework for Path Integral (Symbolic Outline)\n",
    "# Path integral formulation cannot be computed directly symbolically.\n",
    "# It is presented as a framework below:\n",
    "path_integral = sp.Function(\"PI\")(\n",
    "    sp.Function(\"Fields\")(psi, A_mu),\n",
    "    sp.Function(\"Exp\")(-sp.I * action)\n",
    ")"
   ]
  },
  {
   "cell_type": "code",
   "execution_count": 93,
   "metadata": {
    "colab": {
     "base_uri": "https://localhost:8080/",
     "height": 117
    },
    "id": "8RGa5Q3Yec5P",
    "outputId": "6cdb0766-52a2-4295-e01e-6cba21d2bae5"
   },
   "outputs": [
    {
     "name": "stdout",
     "output_type": "stream",
     "text": [
      "\n",
      "Path Integral (Symbolic Representation):\n"
     ]
    },
    {
     "data": {
      "text/latex": [
       "$\\displaystyle \\pi{\\left(\\operatorname{Fields}{\\left(\\psi{\\left(t,x,y,z \\right)},A_{\\mu}{\\left(t,x,y,z \\right)} \\right)},\\operatorname{Exp}{\\left(- i \\int\\limits_{-\\infty}^{\\infty}\\int\\limits_{-\\infty}^{\\infty}\\int\\limits_{-\\infty}^{\\infty}\\int\\limits_{t_{0}}^{t_{1}} \\sqrt{- g{\\left(t,x,y,z \\right)}} \\left(- 4.0 m \\psi{\\left(t,x,y,z \\right)} \\overline{\\psi{\\left(t,x,y,z \\right)}} + 1.0 i \\psi{\\left(t,x,y,z \\right)} \\overline{\\psi{\\left(t,x,y,z \\right)}} \\operatorname{tr}\\left(\\gamma D_{\\mu} \\right) - 0.25 \\operatorname{tr}\\left(F_{\\mu \\nu}^{T} F_{\\mu \\nu} \\right)\\right)\\, dt\\, dx\\, dy\\, dz \\right)} \\right)}$"
      ],
      "text/plain": [
       "PI(Fields(psi(t, x, y, z), A_mu(t, x, y, z)), Exp(-I*Integral(sqrt(-g(t, x, y, z))*(-4.0*m*psi(t, x, y, z)*conjugate(psi(t, x, y, z)) + 1.0*I*psi(t, x, y, z)*conjugate(psi(t, x, y, z))*Trace(gamma*D_mu) - 0.25*Trace(F_mu_nu.T*F_mu_nu)), (t, t0, t1), (x, -oo, oo), (y, -oo, oo), (z, -oo, oo))))"
      ]
     },
     "execution_count": 93,
     "metadata": {},
     "output_type": "execute_result"
    }
   ],
   "source": [
    "print(\"\\nPath Integral (Symbolic Representation):\")\n",
    "path_integral"
   ]
  },
  {
   "cell_type": "code",
   "execution_count": 95,
   "metadata": {
    "id": "I5Rowopqec74"
   },
   "outputs": [],
   "source": [
    "# Convert equations to LaTeX\n",
    "latex_L_quark = sp.latex(L_quark)\n",
    "latex_L_gluon = sp.latex(L_gluon)\n",
    "latex_L_qcd = sp.latex(L_qcd)\n",
    "latex_EOM_quark = sp.latex(EOM_quark)\n",
    "latex_EOM_gluon = sp.latex(EOM_gluon)\n",
    "latex_EOM = sp.latex(EOM)\n",
    "latex_action = sp.latex(action)\n",
    "latex_path_integral = sp.latex(path_integral)"
   ]
  },
  {
   "cell_type": "code",
   "execution_count": 96,
   "metadata": {
    "colab": {
     "base_uri": "https://localhost:8080/",
     "height": 54
    },
    "id": "DFZQh64necDU",
    "outputId": "bc39ae44-7f9a-4f68-df6a-9177f393d54d"
   },
   "outputs": [
    {
     "data": {
      "application/vnd.google.colaboratory.intrinsic+json": {
       "type": "string"
      },
      "text/plain": [
       "'\\\\sqrt{- g{\\\\left(t,x,y,z \\\\right)}} \\\\left(- 4 m + i \\\\operatorname{tr}\\\\left(\\\\gamma D_{\\\\mu} \\\\right)\\\\right) \\\\psi{\\\\left(t,x,y,z \\\\right)} \\\\overline{\\\\psi{\\\\left(t,x,y,z \\\\right)}}'"
      ]
     },
     "execution_count": 96,
     "metadata": {},
     "output_type": "execute_result"
    }
   ],
   "source": [
    "latex_L_quark"
   ]
  },
  {
   "cell_type": "code",
   "execution_count": 97,
   "metadata": {
    "colab": {
     "base_uri": "https://localhost:8080/",
     "height": 36
    },
    "id": "K0isH7FPecGT",
    "outputId": "a64b4543-8760-44c5-837f-3bff1e69c32f"
   },
   "outputs": [
    {
     "data": {
      "application/vnd.google.colaboratory.intrinsic+json": {
       "type": "string"
      },
      "text/plain": [
       "'- 0.25 \\\\sqrt{- g{\\\\left(t,x,y,z \\\\right)}} \\\\operatorname{tr}\\\\left(F_{\\\\mu \\\\nu}^{T} F_{\\\\mu \\\\nu} \\\\right)'"
      ]
     },
     "execution_count": 97,
     "metadata": {},
     "output_type": "execute_result"
    }
   ],
   "source": [
    "latex_L_gluon"
   ]
  },
  {
   "cell_type": "code",
   "execution_count": 98,
   "metadata": {
    "colab": {
     "base_uri": "https://localhost:8080/",
     "height": 54
    },
    "id": "2PWJdOoaecJA",
    "outputId": "a723c932-c64a-4118-bbeb-3983d19518c2"
   },
   "outputs": [
    {
     "data": {
      "application/vnd.google.colaboratory.intrinsic+json": {
       "type": "string"
      },
      "text/plain": [
       "'\\\\sqrt{- g{\\\\left(t,x,y,z \\\\right)}} \\\\left(- 4 m + i \\\\operatorname{tr}\\\\left(\\\\gamma D_{\\\\mu} \\\\right)\\\\right) \\\\psi{\\\\left(t,x,y,z \\\\right)} \\\\overline{\\\\psi{\\\\left(t,x,y,z \\\\right)}} - 0.25 \\\\sqrt{- g{\\\\left(t,x,y,z \\\\right)}} \\\\operatorname{tr}\\\\left(F_{\\\\mu \\\\nu}^{T} F_{\\\\mu \\\\nu} \\\\right)'"
      ]
     },
     "execution_count": 98,
     "metadata": {},
     "output_type": "execute_result"
    }
   ],
   "source": [
    "latex_L_qcd"
   ]
  },
  {
   "cell_type": "code",
   "execution_count": 99,
   "metadata": {
    "colab": {
     "base_uri": "https://localhost:8080/",
     "height": 54
    },
    "id": "J57fKRGbecLm",
    "outputId": "db10e98b-15f1-4516-d17e-7575867dcc0f"
   },
   "outputs": [
    {
     "data": {
      "application/vnd.google.colaboratory.intrinsic+json": {
       "type": "string"
      },
      "text/plain": [
       "'\\\\left[\\\\begin{matrix}\\\\sqrt{- g{\\\\left(t,x,y,z \\\\right)}} \\\\left(4 m - i \\\\operatorname{tr}\\\\left(\\\\gamma D_{\\\\mu} \\\\right)\\\\right) \\\\left(- \\\\psi{\\\\left(t,x,y,z \\\\right)} \\\\frac{\\\\partial}{\\\\partial \\\\psi{\\\\left(t,x,y,z \\\\right)}} \\\\overline{\\\\psi{\\\\left(t,x,y,z \\\\right)}} - \\\\overline{\\\\psi{\\\\left(t,x,y,z \\\\right)}}\\\\right)\\\\end{matrix}\\\\right]'"
      ]
     },
     "execution_count": 99,
     "metadata": {},
     "output_type": "execute_result"
    }
   ],
   "source": [
    "latex_EOM_quark"
   ]
  },
  {
   "cell_type": "code",
   "execution_count": 100,
   "metadata": {
    "colab": {
     "base_uri": "https://localhost:8080/",
     "height": 36
    },
    "id": "R2MkUt-tecOP",
    "outputId": "d721bfaa-9ed8-410a-a92c-233aa12050b5"
   },
   "outputs": [
    {
     "data": {
      "application/vnd.google.colaboratory.intrinsic+json": {
       "type": "string"
      },
      "text/plain": [
       "'\\\\left[\\\\begin{matrix}0\\\\end{matrix}\\\\right]'"
      ]
     },
     "execution_count": 100,
     "metadata": {},
     "output_type": "execute_result"
    }
   ],
   "source": [
    "latex_EOM_gluon"
   ]
  },
  {
   "cell_type": "code",
   "execution_count": 101,
   "metadata": {
    "colab": {
     "base_uri": "https://localhost:8080/",
     "height": 54
    },
    "id": "HlT_E713gB35",
    "outputId": "9d1f5ccb-c7c1-4fc4-d3f1-2aa70036285f"
   },
   "outputs": [
    {
     "data": {
      "application/vnd.google.colaboratory.intrinsic+json": {
       "type": "string"
      },
      "text/plain": [
       "'\\\\left[\\\\begin{matrix}\\\\sqrt{- g{\\\\left(x,y,z,t \\\\right)}} \\\\left(4 m - i \\\\operatorname{tr}\\\\left(\\\\gamma D_{\\\\mu} \\\\right)\\\\right) \\\\left(- \\\\psi{\\\\left(t,x,y,z \\\\right)} \\\\frac{\\\\partial}{\\\\partial \\\\psi{\\\\left(t,x,y,z \\\\right)}} \\\\overline{\\\\psi{\\\\left(t,x,y,z \\\\right)}} - \\\\overline{\\\\psi{\\\\left(t,x,y,z \\\\right)}}\\\\right)\\\\end{matrix}\\\\right]'"
      ]
     },
     "execution_count": 101,
     "metadata": {},
     "output_type": "execute_result"
    }
   ],
   "source": [
    "latex_EOM"
   ]
  },
  {
   "cell_type": "code",
   "execution_count": 102,
   "metadata": {
    "colab": {
     "base_uri": "https://localhost:8080/",
     "height": 72
    },
    "id": "eb6nbplogB6h",
    "outputId": "ca12b3dd-efd8-45f2-cb74-4ca4306205a4"
   },
   "outputs": [
    {
     "data": {
      "application/vnd.google.colaboratory.intrinsic+json": {
       "type": "string"
      },
      "text/plain": [
       "'\\\\int\\\\limits_{-\\\\infty}^{\\\\infty}\\\\int\\\\limits_{-\\\\infty}^{\\\\infty}\\\\int\\\\limits_{-\\\\infty}^{\\\\infty}\\\\int\\\\limits_{t_{0}}^{t_{1}} \\\\sqrt{- g{\\\\left(t,x,y,z \\\\right)}} \\\\left(- 4.0 m \\\\psi{\\\\left(t,x,y,z \\\\right)} \\\\overline{\\\\psi{\\\\left(t,x,y,z \\\\right)}} + 1.0 i \\\\psi{\\\\left(t,x,y,z \\\\right)} \\\\overline{\\\\psi{\\\\left(t,x,y,z \\\\right)}} \\\\operatorname{tr}\\\\left(\\\\gamma D_{\\\\mu} \\\\right) - 0.25 \\\\operatorname{tr}\\\\left(F_{\\\\mu \\\\nu}^{T} F_{\\\\mu \\\\nu} \\\\right)\\\\right)\\\\, dt\\\\, dx\\\\, dy\\\\, dz'"
      ]
     },
     "execution_count": 102,
     "metadata": {},
     "output_type": "execute_result"
    }
   ],
   "source": [
    "latex_action"
   ]
  },
  {
   "cell_type": "code",
   "execution_count": 103,
   "metadata": {
    "colab": {
     "base_uri": "https://localhost:8080/",
     "height": 90
    },
    "id": "sKZPReyQgB85",
    "outputId": "a07f5608-b55f-42a9-d6a4-cec4e3e9196d"
   },
   "outputs": [
    {
     "data": {
      "application/vnd.google.colaboratory.intrinsic+json": {
       "type": "string"
      },
      "text/plain": [
       "'\\\\pi{\\\\left(\\\\operatorname{Fields}{\\\\left(\\\\psi{\\\\left(t,x,y,z \\\\right)},A_{\\\\mu}{\\\\left(t,x,y,z \\\\right)} \\\\right)},\\\\operatorname{Exp}{\\\\left(- i \\\\int\\\\limits_{-\\\\infty}^{\\\\infty}\\\\int\\\\limits_{-\\\\infty}^{\\\\infty}\\\\int\\\\limits_{-\\\\infty}^{\\\\infty}\\\\int\\\\limits_{t_{0}}^{t_{1}} \\\\sqrt{- g{\\\\left(t,x,y,z \\\\right)}} \\\\left(- 4.0 m \\\\psi{\\\\left(t,x,y,z \\\\right)} \\\\overline{\\\\psi{\\\\left(t,x,y,z \\\\right)}} + 1.0 i \\\\psi{\\\\left(t,x,y,z \\\\right)} \\\\overline{\\\\psi{\\\\left(t,x,y,z \\\\right)}} \\\\operatorname{tr}\\\\left(\\\\gamma D_{\\\\mu} \\\\right) - 0.25 \\\\operatorname{tr}\\\\left(F_{\\\\mu \\\\nu}^{T} F_{\\\\mu \\\\nu} \\\\right)\\\\right)\\\\, dt\\\\, dx\\\\, dy\\\\, dz \\\\right)} \\\\right)}'"
      ]
     },
     "execution_count": 103,
     "metadata": {},
     "output_type": "execute_result"
    }
   ],
   "source": [
    "latex_path_integral"
   ]
  },
  {
   "cell_type": "code",
   "execution_count": null,
   "metadata": {
    "id": "PWb8Y49ZgB_R"
   },
   "outputs": [],
   "source": []
  },
  {
   "cell_type": "code",
   "execution_count": null,
   "metadata": {
    "id": "X3lTSFUAgLcu"
   },
   "outputs": [],
   "source": []
  },
  {
   "cell_type": "code",
   "execution_count": null,
   "metadata": {
    "id": "6aUiaj_EgLfU"
   },
   "outputs": [],
   "source": []
  },
  {
   "cell_type": "code",
   "execution_count": 2,
   "metadata": {
    "id": "noki6jjNgCB0"
   },
   "outputs": [],
   "source": [
    "import sympy as sp"
   ]
  },
  {
   "cell_type": "code",
   "execution_count": 3,
   "metadata": {
    "colab": {
     "base_uri": "https://localhost:8080/"
    },
    "id": "cV_mimviVKKy",
    "outputId": "6b440bb3-daf4-46e8-bb1d-1fda2332bcbb"
   },
   "outputs": [
    {
     "name": "stdout",
     "output_type": "stream",
     "text": [
      "=-=-=-=-=-=-=-=--=-=-=-=-=L_{QCD}=-=-=-=-=-=-=-=-=-=-=-=-=\n",
      "QCD Lagrangian in Curved Spacetime:\n",
      "                                               ⎛          ⎡-m  0   0   0 ⎤⎞   \n",
      "                                               ⎜          ⎢              ⎥⎟   \n",
      "  ________________               _____________ ⎜          ⎢0   -m  0   0 ⎥⎟   \n",
      "╲╱ -g(x, y, z, t) ⋅ψ(t, x, y, z)⋅ψ(t, x, y, z)⋅⎜ⅈ⋅γ⋅Dₘᵤ + ⎢              ⎥⎟ -0\n",
      "                                               ⎜          ⎢0   0   -m  0 ⎥⎟   \n",
      "                                               ⎜          ⎢              ⎥⎟   \n",
      "                                               ⎝          ⎣0   0   0   -m⎦⎠   \n",
      "\n",
      "                                     \n",
      "                                     \n",
      "      ________________       T       \n",
      ".25⋅╲╱ -g(x, y, z, t) ⋅Gₘᵤ ₙᵤ ⋅Gₘᵤ ₙᵤ\n",
      "                                     \n",
      "                                     \n",
      "                                     \n",
      "\n",
      "Equations of Motion for Quarks:\n",
      "                                                                              \n",
      "                                                                              \n",
      "  ________________ ⎛                    ∂       ⎛_____________⎞   ____________\n",
      "╲╱ -g(x, y, z, t) ⋅⎜ψ(t, x, y, z)⋅──────────────⎝ψ(t, x, y, z)⎠ + ψ(t, x, y, z\n",
      "                   ⎝              ∂ψ(t, x, y, z)                              \n",
      "                                                                              \n",
      "                                                                              \n",
      "\n",
      "   ⎛          ⎡-m  0   0   0 ⎤⎞\n",
      "   ⎜          ⎢              ⎥⎟\n",
      "_⎞ ⎜          ⎢0   -m  0   0 ⎥⎟\n",
      ")⎟⋅⎜ⅈ⋅γ⋅Dₘᵤ + ⎢              ⎥⎟\n",
      " ⎠ ⎜          ⎢0   0   -m  0 ⎥⎟\n",
      "   ⎜          ⎢              ⎥⎟\n",
      "   ⎝          ⎣0   0   0   -m⎦⎠\n",
      "\n",
      "Equations of Motion for Gluons:\n",
      "𝟘\n"
     ]
    }
   ],
   "source": [
    "# Define spacetime and metric\n",
    "x, y, z, t = sp.symbols('x y z t')\n",
    "coords = (t, x, y, z)\n",
    "g = sp.Function('g')(x, y, z, t)  # Metric determinant sqrt(-g)\n",
    "\n",
    "# Define fields\n",
    "psi = sp.Function('psi')(t, x, y, z)  # Quark field\n",
    "A_mu = sp.Function('A_mu')(t, x, y, z)  # Gluon field (now a vector field)\n",
    "\n",
    "# Gamma matrices and other terms remain the same\n",
    "gamma_mu = sp.MatrixSymbol('gamma', 4, 4)  # Gamma matrices\n",
    "D_mu = sp.MatrixSymbol('D_mu', 4, 4)  # Covariant derivative (MatrixSymbol here)\n",
    "\n",
    "# Gluon field strength tensor remains a MatrixSymbol\n",
    "G_mu_nu = sp.MatrixSymbol('G_mu_nu', 4, 4)\n",
    "\n",
    "# Lagrangian components remain the same\n",
    "mass = sp.symbols('m')\n",
    "g_s = sp.symbols('g_s')  # Strong coupling constant\n",
    "\n",
    "# Quark and gluon Lagrangians\n",
    "L_quark = sp.sqrt(-g) * (sp.conjugate(psi) @ (sp.I * gamma_mu @ D_mu - mass * sp.eye(4)) @ psi)\n",
    "L_gluon = -sp.sqrt(-g) * (1 / 4) * (G_mu_nu.T @ G_mu_nu)\n",
    "\n",
    "# Total Lagrangian\n",
    "L_qcd = L_quark + L_gluon\n",
    "\n",
    "# Euler-Lagrange equations\n",
    "def euler_lagrange(L, field):\n",
    "    \"\"\"Compute the Euler-Lagrange equation for a given Lagrangian and field.\"\"\"\n",
    "    dL_dfield = sp.diff(L, field)  # Partial derivative w.r.t. the field\n",
    "    dL_dfield_deriv = sp.diff(L, sp.diff(field, t))  # Partial derivative w.r.t. the field's time derivative\n",
    "    return sp.simplify(dL_dfield - sp.diff(dL_dfield_deriv, t))\n",
    "\n",
    "# Derive equations of motion\n",
    "EOM_quark = euler_lagrange(L_qcd, psi)\n",
    "EOM_gluon = euler_lagrange(L_qcd, A_mu)\n",
    "\n",
    "# Output results\n",
    "print(\"=-=-=-=-=-=-=-=--=-=-=-=-=L_{QCD}=-=-=-=-=-=-=-=-=-=-=-=-=\")\n",
    "print(\"QCD Lagrangian in Curved Spacetime:\")\n",
    "sp.pprint(L_qcd)\n",
    "print(\"\\nEquations of Motion for Quarks:\")\n",
    "sp.pprint(EOM_quark)\n",
    "print(\"\\nEquations of Motion for Gluons:\")\n",
    "sp.pprint(EOM_gluon)\n"
   ]
  },
  {
   "cell_type": "code",
   "execution_count": 4,
   "metadata": {
    "id": "-3XNp3vbMlu3"
   },
   "outputs": [
    {
     "data": {
      "text/latex": [
       "$\\displaystyle - 0.25 \\sqrt{- g{\\left(x,y,z,t \\right)}} G_{\\mu \\nu}^{T} G_{\\mu \\nu} + \\sqrt{- g{\\left(x,y,z,t \\right)}} \\psi{\\left(t,x,y,z \\right)} \\overline{\\psi{\\left(t,x,y,z \\right)}} \\left(\\left[\\begin{matrix}- m & 0 & 0 & 0\\\\0 & - m & 0 & 0\\\\0 & 0 & - m & 0\\\\0 & 0 & 0 & - m\\end{matrix}\\right] + i \\gamma D_{\\mu}\\right)$"
      ],
      "text/plain": [
       "(-0.25*sqrt(-g(x, y, z, t)))*G_mu_nu.T*G_mu_nu + (sqrt(-g(x, y, z, t))*psi(t, x, y, z)*conjugate(psi(t, x, y, z)))*(Matrix([\n",
       "[-m,  0,  0,  0],\n",
       "[ 0, -m,  0,  0],\n",
       "[ 0,  0, -m,  0],\n",
       "[ 0,  0,  0, -m]]) + I*gamma*D_mu)"
      ]
     },
     "execution_count": 4,
     "metadata": {},
     "output_type": "execute_result"
    }
   ],
   "source": [
    "L_qcd"
   ]
  },
  {
   "cell_type": "code",
   "execution_count": null,
   "metadata": {
    "id": "1cykUR4dYybq"
   },
   "outputs": [],
   "source": []
  },
  {
   "cell_type": "code",
   "execution_count": null,
   "metadata": {
    "id": "X6uH4mujYye0"
   },
   "outputs": [],
   "source": []
  },
  {
   "cell_type": "code",
   "execution_count": null,
   "metadata": {
    "id": "lVAoQ1U0aHF_"
   },
   "outputs": [],
   "source": []
  },
  {
   "cell_type": "code",
   "execution_count": 79,
   "metadata": {
    "colab": {
     "base_uri": "https://localhost:8080/",
     "height": 135
    },
    "id": "qnhimSF8bP5G",
    "outputId": "2c95a612-8f29-44ac-c13a-714213a3cb3d"
   },
   "outputs": [
    {
     "name": "stdout",
     "output_type": "stream",
     "text": [
      "\n",
      "Action of L_qcd:\n",
      "\n"
     ]
    },
    {
     "data": {
      "text/latex": [
       "$\\displaystyle \\int\\limits_{-\\infty}^{\\infty}\\int\\limits_{-\\infty}^{\\infty}\\int\\limits_{-\\infty}^{\\infty}\\int\\limits_{t_{0}}^{t_{1}} \\sqrt{- g{\\left(t,x,y,z \\right)}} \\left(- 4.0 m \\psi{\\left(t,x,y,z \\right)} \\overline{\\psi{\\left(t,x,y,z \\right)}} + 1.0 i \\psi{\\left(t,x,y,z \\right)} \\overline{\\psi{\\left(t,x,y,z \\right)}} \\operatorname{tr}\\left(\\gamma D_{\\mu} \\right) - 0.25 \\operatorname{tr}\\left(G_{\\mu \\nu}^{T} G_{\\mu \\nu} \\right)\\right)\\, dt\\, dx\\, dy\\, dz$"
      ],
      "text/plain": [
       "Integral(sqrt(-g(t, x, y, z))*(-4.0*m*psi(t, x, y, z)*conjugate(psi(t, x, y, z)) + 1.0*I*psi(t, x, y, z)*conjugate(psi(t, x, y, z))*Trace(gamma*D_mu) - 0.25*Trace(G_mu_nu.T*G_mu_nu)), (t, t0, t1), (x, -oo, oo), (y, -oo, oo), (z, -oo, oo))"
      ]
     },
     "execution_count": 79,
     "metadata": {},
     "output_type": "execute_result"
    }
   ],
   "source": [
    "print(\"\\nAction of L_qcd:\\n\")\n",
    "action"
   ]
  },
  {
   "cell_type": "code",
   "execution_count": 31,
   "metadata": {
    "id": "aePGlbZmMjkK"
   },
   "outputs": [],
   "source": [
    "# Convert equations to LaTeX\n",
    "latex_L_quark = sp.latex(L_quark)\n",
    "latex_L_gluon = sp.latex(L_gluon)\n",
    "latex_L_qcd = sp.latex(L_qcd)\n",
    "latex_EOM_quark = sp.latex(EOM_quark)\n",
    "latex_EOM_gluon = sp.latex(EOM_gluon)\n",
    "latex_EOM = sp.latex(EOM)\n",
    "latex_action = sp.latex(action)\n",
    "latex_path_integral = sp.latex(path_integral)\n"
   ]
  },
  {
   "cell_type": "code",
   "execution_count": 32,
   "metadata": {
    "colab": {
     "base_uri": "https://localhost:8080/",
     "height": 54
    },
    "id": "8J9xeckYMjnA",
    "outputId": "0443d350-cef0-4b83-fc7b-272c526ea269"
   },
   "outputs": [
    {
     "data": {
      "application/vnd.google.colaboratory.intrinsic+json": {
       "type": "string"
      },
      "text/plain": [
       "'\\\\sqrt{- g{\\\\left(x,y,z,t \\\\right)}} \\\\left(- 4 m + i \\\\operatorname{tr}\\\\left(\\\\gamma D_{\\\\mu} \\\\right)\\\\right) \\\\psi{\\\\left(t,x,y,z \\\\right)} \\\\overline{\\\\psi{\\\\left(t,x,y,z \\\\right)}}'"
      ]
     },
     "execution_count": 32,
     "metadata": {},
     "output_type": "execute_result"
    }
   ],
   "source": [
    "latex_L_quark"
   ]
  },
  {
   "cell_type": "code",
   "execution_count": 33,
   "metadata": {
    "colab": {
     "base_uri": "https://localhost:8080/",
     "height": 36
    },
    "id": "t4PLlhNENxiw",
    "outputId": "701fca8d-69a5-42c9-95e4-f748b7746c13"
   },
   "outputs": [
    {
     "data": {
      "application/vnd.google.colaboratory.intrinsic+json": {
       "type": "string"
      },
      "text/plain": [
       "'- 0.25 \\\\sqrt{- g{\\\\left(x,y,z,t \\\\right)}} \\\\operatorname{tr}\\\\left(G_{\\\\mu \\\\nu}^{T} G_{\\\\mu \\\\nu} \\\\right)'"
      ]
     },
     "execution_count": 33,
     "metadata": {},
     "output_type": "execute_result"
    }
   ],
   "source": [
    "latex_L_gluon"
   ]
  },
  {
   "cell_type": "code",
   "execution_count": 34,
   "metadata": {
    "colab": {
     "base_uri": "https://localhost:8080/",
     "height": 54
    },
    "id": "ZcJrwrgTNxlY",
    "outputId": "460a053b-54d5-4571-83c1-b11443a864ea"
   },
   "outputs": [
    {
     "data": {
      "application/vnd.google.colaboratory.intrinsic+json": {
       "type": "string"
      },
      "text/plain": [
       "'\\\\sqrt{- g{\\\\left(x,y,z,t \\\\right)}} \\\\left(- 4 m + i \\\\operatorname{tr}\\\\left(\\\\gamma D_{\\\\mu} \\\\right)\\\\right) \\\\psi{\\\\left(t,x,y,z \\\\right)} \\\\overline{\\\\psi{\\\\left(t,x,y,z \\\\right)}} - 0.25 \\\\sqrt{- g{\\\\left(x,y,z,t \\\\right)}} \\\\operatorname{tr}\\\\left(G_{\\\\mu \\\\nu}^{T} G_{\\\\mu \\\\nu} \\\\right)'"
      ]
     },
     "execution_count": 34,
     "metadata": {},
     "output_type": "execute_result"
    }
   ],
   "source": [
    "latex_L_qcd"
   ]
  },
  {
   "cell_type": "markdown",
   "metadata": {
    "id": "5DapSSHUOEUM"
   },
   "source": [
    "### EoM"
   ]
  },
  {
   "cell_type": "code",
   "execution_count": 35,
   "metadata": {
    "colab": {
     "base_uri": "https://localhost:8080/",
     "height": 54
    },
    "id": "kuqdSJR-NxpL",
    "outputId": "56d0d978-ca96-4341-9418-e8034081add3"
   },
   "outputs": [
    {
     "data": {
      "application/vnd.google.colaboratory.intrinsic+json": {
       "type": "string"
      },
      "text/plain": [
       "'\\\\left[\\\\begin{matrix}\\\\sqrt{- g{\\\\left(x,y,z,t \\\\right)}} \\\\left(4 m - i \\\\operatorname{tr}\\\\left(\\\\gamma D_{\\\\mu} \\\\right)\\\\right) \\\\left(- \\\\psi{\\\\left(t,x,y,z \\\\right)} \\\\frac{\\\\partial}{\\\\partial \\\\psi{\\\\left(t,x,y,z \\\\right)}} \\\\overline{\\\\psi{\\\\left(t,x,y,z \\\\right)}} - \\\\overline{\\\\psi{\\\\left(t,x,y,z \\\\right)}}\\\\right)\\\\end{matrix}\\\\right]'"
      ]
     },
     "execution_count": 35,
     "metadata": {},
     "output_type": "execute_result"
    }
   ],
   "source": [
    "latex_EOM_quark"
   ]
  },
  {
   "cell_type": "code",
   "execution_count": 36,
   "metadata": {
    "colab": {
     "base_uri": "https://localhost:8080/",
     "height": 36
    },
    "id": "P1DLwUimMjpQ",
    "outputId": "0d4f3f45-fcfc-4735-eca2-9e7e3124860b"
   },
   "outputs": [
    {
     "data": {
      "application/vnd.google.colaboratory.intrinsic+json": {
       "type": "string"
      },
      "text/plain": [
       "'\\\\left[\\\\begin{matrix}0\\\\end{matrix}\\\\right]'"
      ]
     },
     "execution_count": 36,
     "metadata": {},
     "output_type": "execute_result"
    }
   ],
   "source": [
    "latex_EOM_gluon"
   ]
  },
  {
   "cell_type": "code",
   "execution_count": 37,
   "metadata": {
    "colab": {
     "base_uri": "https://localhost:8080/",
     "height": 54
    },
    "id": "QU0yhPwkOLMn",
    "outputId": "43f34255-a651-424a-f8a9-cade3d70aa04"
   },
   "outputs": [
    {
     "data": {
      "application/vnd.google.colaboratory.intrinsic+json": {
       "type": "string"
      },
      "text/plain": [
       "'\\\\left[\\\\begin{matrix}\\\\sqrt{- g{\\\\left(x,y,z,t \\\\right)}} \\\\left(4 m - i \\\\operatorname{tr}\\\\left(\\\\gamma D_{\\\\mu} \\\\right)\\\\right) \\\\left(- \\\\psi{\\\\left(t,x,y,z \\\\right)} \\\\frac{\\\\partial}{\\\\partial \\\\psi{\\\\left(t,x,y,z \\\\right)}} \\\\overline{\\\\psi{\\\\left(t,x,y,z \\\\right)}} - \\\\overline{\\\\psi{\\\\left(t,x,y,z \\\\right)}}\\\\right)\\\\end{matrix}\\\\right]'"
      ]
     },
     "execution_count": 37,
     "metadata": {},
     "output_type": "execute_result"
    }
   ],
   "source": [
    "latex_EOM"
   ]
  },
  {
   "cell_type": "code",
   "execution_count": 38,
   "metadata": {
    "colab": {
     "base_uri": "https://localhost:8080/",
     "height": 72
    },
    "id": "ylzkmmhGONkN",
    "outputId": "b6be47d9-6c8c-4ef1-d69f-beb6e8278f62"
   },
   "outputs": [
    {
     "data": {
      "application/vnd.google.colaboratory.intrinsic+json": {
       "type": "string"
      },
      "text/plain": [
       "'\\\\int\\\\limits_{t_{0}}^{t_{1}}\\\\int\\\\limits_{-\\\\infty}^{\\\\infty}\\\\int\\\\limits_{-\\\\infty}^{\\\\infty}\\\\int\\\\limits_{-\\\\infty}^{\\\\infty} \\\\sqrt{- g{\\\\left(x,y,z,t \\\\right)}} \\\\left(- 4.0 m \\\\psi{\\\\left(t,x,y,z \\\\right)} \\\\overline{\\\\psi{\\\\left(t,x,y,z \\\\right)}} + 1.0 i \\\\psi{\\\\left(t,x,y,z \\\\right)} \\\\overline{\\\\psi{\\\\left(t,x,y,z \\\\right)}} \\\\operatorname{tr}\\\\left(\\\\gamma D_{\\\\mu} \\\\right) - 0.25 \\\\operatorname{tr}\\\\left(G_{\\\\mu \\\\nu}^{T} G_{\\\\mu \\\\nu} \\\\right)\\\\right)\\\\, dx\\\\, dy\\\\, dz\\\\, dt'"
      ]
     },
     "execution_count": 38,
     "metadata": {},
     "output_type": "execute_result"
    }
   ],
   "source": [
    "latex_action"
   ]
  },
  {
   "cell_type": "code",
   "execution_count": 39,
   "metadata": {
    "colab": {
     "base_uri": "https://localhost:8080/",
     "height": 90
    },
    "id": "bjlenJ9iOTaa",
    "outputId": "6c879b7a-c87a-4483-884a-302857d3b3f9"
   },
   "outputs": [
    {
     "data": {
      "application/vnd.google.colaboratory.intrinsic+json": {
       "type": "string"
      },
      "text/plain": [
       "'\\\\pi{\\\\left(\\\\operatorname{Fields}{\\\\left(\\\\psi{\\\\left(t,x,y,z \\\\right)},A_{\\\\mu}{\\\\left(t,x,y,z \\\\right)} \\\\right)},\\\\operatorname{Exp}{\\\\left(- i \\\\int\\\\limits_{t_{0}}^{t_{1}}\\\\int\\\\limits_{-\\\\infty}^{\\\\infty}\\\\int\\\\limits_{-\\\\infty}^{\\\\infty}\\\\int\\\\limits_{-\\\\infty}^{\\\\infty} \\\\sqrt{- g{\\\\left(x,y,z,t \\\\right)}} \\\\left(- 4.0 m \\\\psi{\\\\left(t,x,y,z \\\\right)} \\\\overline{\\\\psi{\\\\left(t,x,y,z \\\\right)}} + 1.0 i \\\\psi{\\\\left(t,x,y,z \\\\right)} \\\\overline{\\\\psi{\\\\left(t,x,y,z \\\\right)}} \\\\operatorname{tr}\\\\left(\\\\gamma D_{\\\\mu} \\\\right) - 0.25 \\\\operatorname{tr}\\\\left(G_{\\\\mu \\\\nu}^{T} G_{\\\\mu \\\\nu} \\\\right)\\\\right)\\\\, dx\\\\, dy\\\\, dz\\\\, dt \\\\right)} \\\\right)}'"
      ]
     },
     "execution_count": 39,
     "metadata": {},
     "output_type": "execute_result"
    }
   ],
   "source": [
    "latex_path_integral"
   ]
  },
  {
   "cell_type": "code",
   "execution_count": null,
   "metadata": {
    "id": "KQIu_XVTOLP-"
   },
   "outputs": [],
   "source": []
  },
  {
   "cell_type": "code",
   "execution_count": null,
   "metadata": {
    "id": "Xl9p5HKfMjvZ"
   },
   "outputs": [],
   "source": []
  },
  {
   "cell_type": "code",
   "execution_count": null,
   "metadata": {
    "id": "cW09orD9Mjyd"
   },
   "outputs": [],
   "source": []
  },
  {
   "cell_type": "code",
   "execution_count": null,
   "metadata": {
    "id": "XFAK5vSCMj0e"
   },
   "outputs": [],
   "source": []
  },
  {
   "cell_type": "code",
   "execution_count": null,
   "metadata": {
    "colab": {
     "base_uri": "https://localhost:8080/",
     "height": 81
    },
    "id": "urtwPGS2L-Sq",
    "outputId": "cf099329-c2ee-4063-c7b0-1b16da7a2e53"
   },
   "outputs": [
    {
     "data": {
      "text/latex": [
       "$\\displaystyle \\int\\limits_{t_{0}}^{t_{1}}\\int\\limits_{-\\infty}^{\\infty}\\int\\limits_{-\\infty}^{\\infty}\\int\\limits_{-\\infty}^{\\infty} \\sqrt{- g{\\left(x,y,z,t \\right)}} \\left(- 4.0 m \\psi{\\left(t,x,y,z \\right)} \\overline{\\psi{\\left(t,x,y,z \\right)}} + 1.0 i \\psi{\\left(t,x,y,z \\right)} \\overline{\\psi{\\left(t,x,y,z \\right)}} \\operatorname{tr}\\left(\\gamma D_{\\mu} \\right) - 0.25 \\operatorname{tr}\\left(G_{\\mu \\nu}^{T} G_{\\mu \\nu} \\right)\\right)\\, dx\\, dy\\, dz\\, dt$"
      ],
      "text/plain": [
       "Integral(sqrt(-g(x, y, z, t))*(-4.0*m*psi(t, x, y, z)*conjugate(psi(t, x, y, z)) + 1.0*I*psi(t, x, y, z)*conjugate(psi(t, x, y, z))*Trace(gamma*D_mu) - 0.25*Trace(G_mu_nu.T*G_mu_nu)), (x, -oo, oo), (y, -oo, oo), (z, -oo, oo), (t, t0, t1))"
      ]
     },
     "execution_count": 16,
     "metadata": {},
     "output_type": "execute_result"
    }
   ],
   "source": [
    "action"
   ]
  },
  {
   "cell_type": "code",
   "execution_count": null,
   "metadata": {
    "id": "c-gKjtMGLVcY"
   },
   "outputs": [],
   "source": [
    "latex_action = sp.latex(action)"
   ]
  },
  {
   "cell_type": "code",
   "execution_count": null,
   "metadata": {
    "colab": {
     "base_uri": "https://localhost:8080/",
     "height": 72
    },
    "id": "hlaIvo4bLVfn",
    "outputId": "acc30511-a80a-4028-c6cf-506d5a0cc5e3"
   },
   "outputs": [
    {
     "data": {
      "application/vnd.google.colaboratory.intrinsic+json": {
       "type": "string"
      },
      "text/plain": [
       "'\\\\int\\\\limits_{t_{0}}^{t_{1}}\\\\int\\\\limits_{-\\\\infty}^{\\\\infty}\\\\int\\\\limits_{-\\\\infty}^{\\\\infty}\\\\int\\\\limits_{-\\\\infty}^{\\\\infty} \\\\sqrt{- g{\\\\left(x,y,z,t \\\\right)}} \\\\left(- 4.0 m \\\\psi{\\\\left(t,x,y,z \\\\right)} \\\\overline{\\\\psi{\\\\left(t,x,y,z \\\\right)}} + 1.0 i \\\\psi{\\\\left(t,x,y,z \\\\right)} \\\\overline{\\\\psi{\\\\left(t,x,y,z \\\\right)}} \\\\operatorname{tr}\\\\left(\\\\gamma D_{\\\\mu} \\\\right) - 0.25 \\\\operatorname{tr}\\\\left(G_{\\\\mu \\\\nu}^{T} G_{\\\\mu \\\\nu} \\\\right)\\\\right)\\\\, dx\\\\, dy\\\\, dz\\\\, dt'"
      ]
     },
     "execution_count": 15,
     "metadata": {},
     "output_type": "execute_result"
    }
   ],
   "source": [
    "latex_action"
   ]
  },
  {
   "cell_type": "code",
   "execution_count": null,
   "metadata": {
    "id": "2u87I_pzLwdS"
   },
   "outputs": [],
   "source": [
    "latex_path_integral = sp.latex(path_integral)"
   ]
  },
  {
   "cell_type": "code",
   "execution_count": null,
   "metadata": {
    "colab": {
     "base_uri": "https://localhost:8080/",
     "height": 81
    },
    "id": "BHrYeZD8Lwf6",
    "outputId": "fd818290-6678-49a5-8a41-2ea4d9ae7b40"
   },
   "outputs": [
    {
     "data": {
      "text/latex": [
       "$\\displaystyle \\pi{\\left(\\operatorname{Fields}{\\left(\\psi{\\left(t,x,y,z \\right)},A_{\\mu}{\\left(t,x,y,z \\right)} \\right)},\\operatorname{Exp}{\\left(- i \\int\\limits_{t_{0}}^{t_{1}}\\int\\limits_{-\\infty}^{\\infty}\\int\\limits_{-\\infty}^{\\infty}\\int\\limits_{-\\infty}^{\\infty} \\sqrt{- g{\\left(x,y,z,t \\right)}} \\left(- 4.0 m \\psi{\\left(t,x,y,z \\right)} \\overline{\\psi{\\left(t,x,y,z \\right)}} + 1.0 i \\psi{\\left(t,x,y,z \\right)} \\overline{\\psi{\\left(t,x,y,z \\right)}} \\operatorname{tr}\\left(\\gamma D_{\\mu} \\right) - 0.25 \\operatorname{tr}\\left(G_{\\mu \\nu}^{T} G_{\\mu \\nu} \\right)\\right)\\, dx\\, dy\\, dz\\, dt \\right)} \\right)}$"
      ],
      "text/plain": [
       "PI(Fields(psi(t, x, y, z), A_mu(t, x, y, z)), Exp(-I*Integral(sqrt(-g(x, y, z, t))*(-4.0*m*psi(t, x, y, z)*conjugate(psi(t, x, y, z)) + 1.0*I*psi(t, x, y, z)*conjugate(psi(t, x, y, z))*Trace(gamma*D_mu) - 0.25*Trace(G_mu_nu.T*G_mu_nu)), (x, -oo, oo), (y, -oo, oo), (z, -oo, oo), (t, t0, t1))))"
      ]
     },
     "execution_count": 18,
     "metadata": {},
     "output_type": "execute_result"
    }
   ],
   "source": [
    "path_integral"
   ]
  },
  {
   "cell_type": "code",
   "execution_count": null,
   "metadata": {
    "colab": {
     "base_uri": "https://localhost:8080/",
     "height": 90
    },
    "id": "8ZrHGXuvLwit",
    "outputId": "26ae47d7-32c3-4871-d6a3-761ba2d1e6e9"
   },
   "outputs": [
    {
     "data": {
      "application/vnd.google.colaboratory.intrinsic+json": {
       "type": "string"
      },
      "text/plain": [
       "'\\\\pi{\\\\left(\\\\operatorname{Fields}{\\\\left(\\\\psi{\\\\left(t,x,y,z \\\\right)},A_{\\\\mu}{\\\\left(t,x,y,z \\\\right)} \\\\right)},\\\\operatorname{Exp}{\\\\left(- i \\\\int\\\\limits_{t_{0}}^{t_{1}}\\\\int\\\\limits_{-\\\\infty}^{\\\\infty}\\\\int\\\\limits_{-\\\\infty}^{\\\\infty}\\\\int\\\\limits_{-\\\\infty}^{\\\\infty} \\\\sqrt{- g{\\\\left(x,y,z,t \\\\right)}} \\\\left(- 4.0 m \\\\psi{\\\\left(t,x,y,z \\\\right)} \\\\overline{\\\\psi{\\\\left(t,x,y,z \\\\right)}} + 1.0 i \\\\psi{\\\\left(t,x,y,z \\\\right)} \\\\overline{\\\\psi{\\\\left(t,x,y,z \\\\right)}} \\\\operatorname{tr}\\\\left(\\\\gamma D_{\\\\mu} \\\\right) - 0.25 \\\\operatorname{tr}\\\\left(G_{\\\\mu \\\\nu}^{T} G_{\\\\mu \\\\nu} \\\\right)\\\\right)\\\\, dx\\\\, dy\\\\, dz\\\\, dt \\\\right)} \\\\right)}'"
      ]
     },
     "execution_count": 19,
     "metadata": {},
     "output_type": "execute_result"
    }
   ],
   "source": [
    "latex_path_integral"
   ]
  },
  {
   "cell_type": "code",
   "execution_count": null,
   "metadata": {
    "colab": {
     "base_uri": "https://localhost:8080/",
     "height": 40
    },
    "id": "z1IYDWvMLVig",
    "outputId": "958e6448-b2d9-425f-f122-7868336f83b1"
   },
   "outputs": [
    {
     "data": {
      "text/latex": [
       "$\\displaystyle - 0.25 \\sqrt{- g{\\left(x,y,z,t \\right)}} \\operatorname{tr}\\left(G_{\\mu \\nu}^{T} G_{\\mu \\nu} \\right)$"
      ],
      "text/plain": [
       "-0.25*sqrt(-g(x, y, z, t))*Trace(G_mu_nu.T*G_mu_nu)"
      ]
     },
     "execution_count": 21,
     "metadata": {},
     "output_type": "execute_result"
    }
   ],
   "source": [
    "L_gluon"
   ]
  },
  {
   "cell_type": "code",
   "execution_count": null,
   "metadata": {
    "colab": {
     "base_uri": "https://localhost:8080/",
     "height": 40
    },
    "id": "X7iG046ocAZz",
    "outputId": "e82b8590-c162-4128-c34d-3c3ea2e2495e"
   },
   "outputs": [
    {
     "data": {
      "text/latex": [
       "$\\displaystyle \\sqrt{- g{\\left(x,y,z,t \\right)}} \\left(- 4 m + i \\operatorname{tr}\\left(\\gamma D_{\\mu} \\right)\\right) \\psi{\\left(t,x,y,z \\right)} \\overline{\\psi{\\left(t,x,y,z \\right)}} - 0.25 \\sqrt{- g{\\left(x,y,z,t \\right)}} \\operatorname{tr}\\left(G_{\\mu \\nu}^{T} G_{\\mu \\nu} \\right)$"
      ],
      "text/plain": [
       "sqrt(-g(x, y, z, t))*(-4*m + I*Trace(gamma*D_mu))*psi(t, x, y, z)*conjugate(psi(t, x, y, z)) - 0.25*sqrt(-g(x, y, z, t))*Trace(G_mu_nu.T*G_mu_nu)"
      ]
     },
     "execution_count": 52,
     "metadata": {},
     "output_type": "execute_result"
    }
   ],
   "source": [
    "L_qcd"
   ]
  },
  {
   "cell_type": "code",
   "execution_count": null,
   "metadata": {
    "colab": {
     "base_uri": "https://localhost:8080/",
     "height": 81
    },
    "id": "97PzsqjKbxQx",
    "outputId": "97a18fbc-f7f9-446b-a1c1-1bd9659c027a"
   },
   "outputs": [
    {
     "data": {
      "text/latex": [
       "$\\displaystyle \\int\\limits_{t_{0}}^{t_{1}}\\int\\limits_{-\\infty}^{\\infty}\\int\\limits_{-\\infty}^{\\infty}\\int\\limits_{-\\infty}^{\\infty} \\sqrt{- g{\\left(x,y,z,t \\right)}} \\left(- 4.0 m \\psi{\\left(t,x,y,z \\right)} \\overline{\\psi{\\left(t,x,y,z \\right)}} + 1.0 i \\psi{\\left(t,x,y,z \\right)} \\overline{\\psi{\\left(t,x,y,z \\right)}} \\operatorname{tr}\\left(\\gamma D_{\\mu} \\right) - 0.25 \\operatorname{tr}\\left(G_{\\mu \\nu}^{T} G_{\\mu \\nu} \\right)\\right)\\, dx\\, dy\\, dz\\, dt$"
      ],
      "text/plain": [
       "Integral(sqrt(-g(x, y, z, t))*(-4.0*m*psi(t, x, y, z)*conjugate(psi(t, x, y, z)) + 1.0*I*psi(t, x, y, z)*conjugate(psi(t, x, y, z))*Trace(gamma*D_mu) - 0.25*Trace(G_mu_nu.T*G_mu_nu)), (x, -oo, oo), (y, -oo, oo), (z, -oo, oo), (t, t0, t1))"
      ]
     },
     "execution_count": 50,
     "metadata": {},
     "output_type": "execute_result"
    }
   ],
   "source": [
    "action"
   ]
  },
  {
   "cell_type": "code",
   "execution_count": null,
   "metadata": {
    "colab": {
     "base_uri": "https://localhost:8080/",
     "height": 81
    },
    "id": "_l8wz7qnbdV3",
    "outputId": "c6f6d7ae-c760-433d-b5f0-8c286d4171aa"
   },
   "outputs": [
    {
     "data": {
      "text/latex": [
       "$\\displaystyle \\pi{\\left(\\operatorname{Fields}{\\left(\\psi{\\left(t,x,y,z \\right)},A_{\\mu}{\\left(t,x,y,z \\right)} \\right)},\\operatorname{Exp}{\\left(- i \\int\\limits_{t_{0}}^{t_{1}}\\int\\limits_{-\\infty}^{\\infty}\\int\\limits_{-\\infty}^{\\infty}\\int\\limits_{-\\infty}^{\\infty} \\sqrt{- g{\\left(x,y,z,t \\right)}} \\left(- 4.0 m \\psi{\\left(t,x,y,z \\right)} \\overline{\\psi{\\left(t,x,y,z \\right)}} + 1.0 i \\psi{\\left(t,x,y,z \\right)} \\overline{\\psi{\\left(t,x,y,z \\right)}} \\operatorname{tr}\\left(\\gamma D_{\\mu} \\right) - 0.25 \\operatorname{tr}\\left(G_{\\mu \\nu}^{T} G_{\\mu \\nu} \\right)\\right)\\, dx\\, dy\\, dz\\, dt \\right)} \\right)}$"
      ],
      "text/plain": [
       "PI(Fields(psi(t, x, y, z), A_mu(t, x, y, z)), Exp(-I*Integral(sqrt(-g(x, y, z, t))*(-4.0*m*psi(t, x, y, z)*conjugate(psi(t, x, y, z)) + 1.0*I*psi(t, x, y, z)*conjugate(psi(t, x, y, z))*Trace(gamma*D_mu) - 0.25*Trace(G_mu_nu.T*G_mu_nu)), (x, -oo, oo), (y, -oo, oo), (z, -oo, oo), (t, t0, t1))))"
      ]
     },
     "execution_count": 49,
     "metadata": {},
     "output_type": "execute_result"
    }
   ],
   "source": [
    "path_integral"
   ]
  },
  {
   "cell_type": "code",
   "execution_count": 3,
   "metadata": {
    "colab": {
     "base_uri": "https://localhost:8080/"
    },
    "id": "pOZZejFOOsC6",
    "outputId": "3f39c267-dca2-485a-b235-4d9480c50414"
   },
   "outputs": [
    {
     "name": "stdout",
     "output_type": "stream",
     "text": [
      "QCD Lagrangian in Curved Spacetime:\n",
      "                                               ⎛          ⎡-m  0   0   0 ⎤⎞                        ↪\n",
      "                                               ⎜          ⎢              ⎥⎟                        ↪\n",
      "  ________________               _____________ ⎜          ⎢0   -m  0   0 ⎥⎟         ______________ ↪\n",
      "╲╱ -g(x, y, z, t) ⋅ψ(t, x, y, z)⋅ψ(t, x, y, z)⋅⎜ⅈ⋅γ⋅Dₘᵤ + ⎢              ⎥⎟ -0.25⋅╲╱ -g(x, y, z, t ↪\n",
      "                                               ⎜          ⎢0   0   -m  0 ⎥⎟                        ↪\n",
      "                                               ⎜          ⎢              ⎥⎟                        ↪\n",
      "                                               ⎝          ⎣0   0   0   -m⎦⎠                        ↪\n",
      "\n",
      "↪                  \n",
      "↪                  \n",
      "↪ __       T       \n",
      "↪ ) ⋅Fₘᵤ ₙᵤ ⋅Fₘᵤ ₙᵤ\n",
      "↪                  \n",
      "↪                  \n",
      "↪                  \n",
      "\n",
      "Equations of Motion for Quarks:\n",
      "                                                                                 ⎛          ⎡-m  0 ↪\n",
      "                                                                                 ⎜          ⎢      ↪\n",
      "  ________________ ⎛                    ∂       ⎛_____________⎞   _____________⎞ ⎜          ⎢0   - ↪\n",
      "╲╱ -g(x, y, z, t) ⋅⎜ψ(t, x, y, z)⋅──────────────⎝ψ(t, x, y, z)⎠ + ψ(t, x, y, z)⎟⋅⎜ⅈ⋅γ⋅Dₘᵤ + ⎢      ↪\n",
      "                   ⎝              ∂ψ(t, x, y, z)                               ⎠ ⎜          ⎢0   0 ↪\n",
      "                                                                                 ⎜          ⎢      ↪\n",
      "                                                                                 ⎝          ⎣0   0 ↪\n",
      "\n",
      "↪    0   0 ⎤⎞\n",
      "↪          ⎥⎟\n",
      "↪ m  0   0 ⎥⎟\n",
      "↪          ⎥⎟\n",
      "↪    -m  0 ⎥⎟\n",
      "↪          ⎥⎟\n",
      "↪    0   -m⎦⎠\n",
      "\n",
      "Equations of Motion for Gluons:\n",
      "𝟘\n"
     ]
    }
   ],
   "source": [
    "# Define spacetime and metric\n",
    "x, y, z, t = sp.symbols('x y z t')\n",
    "coords = (t, x, y, z)\n",
    "g = sp.Function('g')(x, y, z, t)  # Metric determinant sqrt(-g)\n",
    "\n",
    "# Define fields\n",
    "psi = sp.Function('psi')(t, x, y, z)  # Quark field\n",
    "A_mu = sp.Function('A_mu')(t, x, y, z)  # Gluon field (now a vector field)\n",
    "\n",
    "# Gamma matrices and other terms remain the same\n",
    "gamma_mu = sp.MatrixSymbol('gamma', 4, 4)  # Gamma matrices\n",
    "D_mu = sp.MatrixSymbol('D_mu', 4, 4)  # Covariant derivative (MatrixSymbol here)\n",
    "\n",
    "# Gluon field strength tensor remains a MatrixSymbol\n",
    "F_mu_nu = sp.MatrixSymbol('F_mu_nu', 4, 4)\n",
    "\n",
    "# Lagrangian components remain the same\n",
    "mass = sp.symbols('m')\n",
    "g_s = sp.symbols('g_s')  # Strong coupling constant\n",
    "\n",
    "# Quark and gluon Lagrangians\n",
    "L_quark = sp.sqrt(-g) * (sp.conjugate(psi) @ (sp.I * gamma_mu @ D_mu - mass * sp.eye(4)) @ psi)\n",
    "L_gluon = -sp.sqrt(-g) * (1 / 4) * (F_mu_nu.T @ F_mu_nu)\n",
    "\n",
    "# Total Lagrangian\n",
    "L_qcd = L_quark + L_gluon\n",
    "\n",
    "# Euler-Lagrange equations\n",
    "def euler_lagrange(L, field):\n",
    "    \"\"\"Compute the Euler-Lagrange equation for a given Lagrangian and field.\"\"\"\n",
    "    dL_dfield = sp.diff(L, field)  # Partial derivative w.r.t. the field\n",
    "    dL_dfield_deriv = sp.diff(L, sp.diff(field, t))  # Partial derivative w.r.t. the field's time derivative\n",
    "    return sp.simplify(dL_dfield - sp.diff(dL_dfield_deriv, t))\n",
    "\n",
    "# Derive equations of motion\n",
    "EOM_quark = euler_lagrange(L_qcd, psi)\n",
    "EOM_gluon = euler_lagrange(L_qcd, A_mu)\n",
    "\n",
    "\n",
    "\n",
    "# Output results\n",
    "print(\"QCD Lagrangian in Curved Spacetime:\")\n",
    "sp.pprint(L_qcd)\n",
    "print(\"\\nEquations of Motion for Quarks:\")\n",
    "sp.pprint(EOM_quark)\n",
    "print(\"\\nEquations of Motion for Gluons:\")\n",
    "sp.pprint(EOM_gluon)\n"
   ]
  },
  {
   "cell_type": "code",
   "execution_count": 4,
   "metadata": {
    "colab": {
     "base_uri": "https://localhost:8080/",
     "height": 98
    },
    "id": "5Tb6n5ybKTB5",
    "outputId": "df2956e5-0154-4992-d405-2af3391a23ae"
   },
   "outputs": [
    {
     "data": {
      "text/latex": [
       "$\\displaystyle - 0.25 \\sqrt{- g{\\left(x,y,z,t \\right)}} F_{\\mu \\nu}^{T} F_{\\mu \\nu} + \\sqrt{- g{\\left(x,y,z,t \\right)}} \\psi{\\left(t,x,y,z \\right)} \\overline{\\psi{\\left(t,x,y,z \\right)}} \\left(\\left[\\begin{matrix}- m & 0 & 0 & 0\\\\0 & - m & 0 & 0\\\\0 & 0 & - m & 0\\\\0 & 0 & 0 & - m\\end{matrix}\\right] + i \\gamma D_{\\mu}\\right)$"
      ],
      "text/plain": [
       "(-0.25*sqrt(-g(x, y, z, t)))*F_mu_nu.T*F_mu_nu + (sqrt(-g(x, y, z, t))*psi(t, x, y, z)*conjugate(psi(t, x, y, z)))*(Matrix([\n",
       "[-m,  0,  0,  0],\n",
       "[ 0, -m,  0,  0],\n",
       "[ 0,  0, -m,  0],\n",
       "[ 0,  0,  0, -m]]) + I*gamma*D_mu)"
      ]
     },
     "execution_count": 4,
     "metadata": {},
     "output_type": "execute_result"
    }
   ],
   "source": [
    "L_qcd"
   ]
  },
  {
   "cell_type": "code",
   "execution_count": 5,
   "metadata": {
    "colab": {
     "base_uri": "https://localhost:8080/",
     "height": 98
    },
    "id": "CQGiXA1yNUEz",
    "outputId": "9d618b2a-0885-47f1-d430-462c5edf4c82"
   },
   "outputs": [
    {
     "data": {
      "text/latex": [
       "$\\displaystyle \\sqrt{- g{\\left(x,y,z,t \\right)}} \\left(\\psi{\\left(t,x,y,z \\right)} \\frac{\\partial}{\\partial \\psi{\\left(t,x,y,z \\right)}} \\overline{\\psi{\\left(t,x,y,z \\right)}} + \\overline{\\psi{\\left(t,x,y,z \\right)}}\\right) \\left(\\left[\\begin{matrix}- m & 0 & 0 & 0\\\\0 & - m & 0 & 0\\\\0 & 0 & - m & 0\\\\0 & 0 & 0 & - m\\end{matrix}\\right] + i \\gamma D_{\\mu}\\right)$"
      ],
      "text/plain": [
       "(sqrt(-g(x, y, z, t))*(psi(t, x, y, z)*Derivative(conjugate(psi(t, x, y, z)), psi(t, x, y, z)) + conjugate(psi(t, x, y, z))))*(Matrix([\n",
       "[-m,  0,  0,  0],\n",
       "[ 0, -m,  0,  0],\n",
       "[ 0,  0, -m,  0],\n",
       "[ 0,  0,  0, -m]]) + I*gamma*D_mu)"
      ]
     },
     "execution_count": 5,
     "metadata": {},
     "output_type": "execute_result"
    }
   ],
   "source": [
    "EOM_quark"
   ]
  },
  {
   "cell_type": "code",
   "execution_count": 1,
   "metadata": {
    "colab": {
     "base_uri": "https://localhost:8080/"
    },
    "id": "umjhfAWZRtiN",
    "outputId": "a6fb295c-e0f9-4c4e-ae9e-336cad0be5bf"
   },
   "outputs": [
    {
     "name": "stdout",
     "output_type": "stream",
     "text": [
      "Quark Lagrangian:\n",
      "  ________________                                                                                 ↪\n",
      "╲╱ -g(x, y, z, t) ⋅(ψ₁⋅(ⅈ⋅γ₁ ₀⋅ψ₂⋅(-ⅈ⋅gₛ⋅Aₜ(t, x, y, z) + partialₜ(t, x, y, z)) + ⅈ⋅γ₂ ₀⋅ψ₃⋅(-ⅈ⋅gₛ ↪\n",
      "\n",
      "↪                                                                                                  ↪\n",
      "↪ ⋅Aₜ(t, x, y, z) + partialₜ(t, x, y, z)) + ⅈ⋅γ₃ ₀⋅ψ₄⋅(-ⅈ⋅gₛ⋅Aₜ(t, x, y, z) + partialₜ(t, x, y, z) ↪\n",
      "\n",
      "↪                                                                                                  ↪\n",
      "↪ ) + ψ₁⋅(ⅈ⋅γ₀ ₀⋅(-ⅈ⋅gₛ⋅Aₜ(t, x, y, z) + partialₜ(t, x, y, z)) - m)) + ψ₂⋅(ⅈ⋅γ₀ ₁⋅ψ₁⋅(-ⅈ⋅gₛ⋅Aₓ(t,  ↪\n",
      "\n",
      "↪                                                                                                  ↪\n",
      "↪ x, y, z) + partialₓ(t, x, y, z)) + ⅈ⋅γ₂ ₁⋅ψ₃⋅(-ⅈ⋅gₛ⋅Aₓ(t, x, y, z) + partialₓ(t, x, y, z)) + ⅈ⋅γ ↪\n",
      "\n",
      "↪                                                                                                  ↪\n",
      "↪ ₃ ₁⋅ψ₄⋅(-ⅈ⋅gₛ⋅Aₓ(t, x, y, z) + partialₓ(t, x, y, z)) + ψ₂⋅(ⅈ⋅γ₁ ₁⋅(-ⅈ⋅gₛ⋅Aₓ(t, x, y, z) + partia ↪\n",
      "\n",
      "↪                                                                                                  ↪\n",
      "↪ lₓ(t, x, y, z)) - m)) + ψ₃⋅(ⅈ⋅γ₀ ₂⋅ψ₁⋅(-ⅈ⋅gₛ⋅A_y(t, x, y, z) + partial_y(t, x, y, z)) + ⅈ⋅γ₁ ₂⋅ψ ↪\n",
      "\n",
      "↪                                                                                                  ↪\n",
      "↪ ₂⋅(-ⅈ⋅gₛ⋅A_y(t, x, y, z) + partial_y(t, x, y, z)) + ⅈ⋅γ₃ ₂⋅ψ₄⋅(-ⅈ⋅gₛ⋅A_y(t, x, y, z) + partial_y ↪\n",
      "\n",
      "↪                                                                                                  ↪\n",
      "↪ (t, x, y, z)) + ψ₃⋅(ⅈ⋅γ₂ ₂⋅(-ⅈ⋅gₛ⋅A_y(t, x, y, z) + partial_y(t, x, y, z)) - m)) + ψ₄⋅(ⅈ⋅γ₀ ₃⋅ψ₁ ↪\n",
      "\n",
      "↪                                                                                                  ↪\n",
      "↪ ⋅(-ⅈ⋅gₛ⋅A_z(t, x, y, z) + partial_z(t, x, y, z)) + ⅈ⋅γ₁ ₃⋅ψ₂⋅(-ⅈ⋅gₛ⋅A_z(t, x, y, z) + partial_z( ↪\n",
      "\n",
      "↪                                                                                                  ↪\n",
      "↪ t, x, y, z)) + ⅈ⋅γ₂ ₃⋅ψ₃⋅(-ⅈ⋅gₛ⋅A_z(t, x, y, z) + partial_z(t, x, y, z)) + ψ₄⋅(ⅈ⋅γ₃ ₃⋅(-ⅈ⋅gₛ⋅A_z ↪\n",
      "\n",
      "↪                                             \n",
      "↪ (t, x, y, z) + partial_z(t, x, y, z)) - m)))\n",
      "\n",
      "Gluon Lagrangian:\n",
      "        ________________ ⎛                                                                         ↪\n",
      "-0.25⋅╲╱ -g(x, y, z, t) ⋅⎝(-Aₜ(t, x, y, z)⋅partialₓ(t, x, y, z) + Aₓ(t, x, y, z)⋅partialₜ(t, x, y, ↪\n",
      "\n",
      "↪     2                                                                              2             ↪\n",
      "↪  z))  + (Aₜ(t, x, y, z)⋅partialₓ(t, x, y, z) - Aₓ(t, x, y, z)⋅partialₜ(t, x, y, z))  + (-Aₜ(t, x ↪\n",
      "\n",
      "↪                                                                      2                           ↪\n",
      "↪ , y, z)⋅partial_y(t, x, y, z) + A_y(t, x, y, z)⋅partialₜ(t, x, y, z))  + (Aₜ(t, x, y, z)⋅partial ↪\n",
      "\n",
      "↪                                                       2                                          ↪\n",
      "↪ _y(t, x, y, z) - A_y(t, x, y, z)⋅partialₜ(t, x, y, z))  + (-Aₜ(t, x, y, z)⋅partial_z(t, x, y, z) ↪\n",
      "\n",
      "↪                                         2                                                        ↪\n",
      "↪  + A_z(t, x, y, z)⋅partialₜ(t, x, y, z))  + (Aₜ(t, x, y, z)⋅partial_z(t, x, y, z) - A_z(t, x, y, ↪\n",
      "\n",
      "↪                          2                                                                       ↪\n",
      "↪  z)⋅partialₜ(t, x, y, z))  + (-Aₓ(t, x, y, z)⋅partial_y(t, x, y, z) + A_y(t, x, y, z)⋅partialₓ(t ↪\n",
      "\n",
      "↪            2                                                                                2    ↪\n",
      "↪ , x, y, z))  + (Aₓ(t, x, y, z)⋅partial_y(t, x, y, z) - A_y(t, x, y, z)⋅partialₓ(t, x, y, z))  +  ↪\n",
      "\n",
      "↪                                                                               2                  ↪\n",
      "↪ (-Aₓ(t, x, y, z)⋅partial_z(t, x, y, z) + A_z(t, x, y, z)⋅partialₓ(t, x, y, z))  + (Aₓ(t, x, y, z ↪\n",
      "\n",
      "↪                                                                2                                 ↪\n",
      "↪ )⋅partial_z(t, x, y, z) - A_z(t, x, y, z)⋅partialₓ(t, x, y, z))  + (-A_y(t, x, y, z)⋅partial_z(t ↪\n",
      "\n",
      "↪                                                    2                                             ↪\n",
      "↪ , x, y, z) + A_z(t, x, y, z)⋅partial_y(t, x, y, z))  + (A_y(t, x, y, z)⋅partial_z(t, x, y, z) -  ↪\n",
      "\n",
      "↪                                       2⎞\n",
      "↪ A_z(t, x, y, z)⋅partial_y(t, x, y, z)) ⎠\n"
     ]
    }
   ],
   "source": [
    "import sympy as sp\n",
    "\n",
    "# Define spacetime coordinates\n",
    "t, x, y, z = sp.symbols('t x y z')\n",
    "coords = (t, x, y, z)\n",
    "\n",
    "# Metric determinant and fields\n",
    "g = sp.Function('g')(x, y, z, t)  # Metric determinant sqrt(-g)\n",
    "psi = sp.Matrix(sp.symbols('psi_1 psi_2 psi_3 psi_4')).reshape(4, 1)  # Quark field (4x1 spinor)\n",
    "A_mu = sp.Matrix([sp.Function(f\"A_{i}\")(t, x, y, z) for i in ['t', 'x', 'y', 'z']])  # Gluon field components (4x1 vector)\n",
    "\n",
    "# Gamma matrices and other terms\n",
    "gamma_mu = sp.MatrixSymbol('gamma', 4, 4)  # Gamma matrices (4x4 matrix)\n",
    "mass = sp.symbols('m')  # Quark mass\n",
    "g_s = sp.symbols('g_s')  # Strong coupling constant\n",
    "\n",
    "# Covariant derivative D_mu (adjust dimensions for compatibility)\n",
    "partial_mu = sp.Matrix([sp.Function(f\"partial_{i}\")(t, x, y, z) for i in ['t', 'x', 'y', 'z']]).reshape(4, 1)\n",
    "D_mu = sp.diag(*partial_mu) - sp.I * g_s * sp.diag(*A_mu)  # 4x4 diagonal matrix for simplicity\n",
    "\n",
    "# Quark Lagrangian: psi_dagger (i * gamma_mu * D_mu - m) psi\n",
    "psi_dagger = psi.T  # Hermitian conjugate of psi\n",
    "#gamma_mu_matrix = sp.Matrix(sp.symbols('gamma_00:4 gamma_10:4 gamma_20:4 gamma_30:4')).reshape(4, 4)  # 4x4 matrix\n",
    "gamma_mu_matrix = sp.Matrix(sp.symbols('gamma_0:4_0:4')).reshape(4, 4)\n",
    "quark_term = sp.I * gamma_mu_matrix @ D_mu - mass * sp.eye(4)  # 4x4 matrix\n",
    "L_quark = sp.sqrt(-g) * (psi_dagger @ quark_term @ psi)[0]  # Extract scalar result\n",
    "\n",
    "# Gluon field strength tensor G_mu_nu = ∂_mu A_nu - ∂_nu A_mu + g_s [A_mu, A_nu]\n",
    "G_mu_nu = sp.Matrix([\n",
    "    [partial_mu[i] * A_mu[j] - partial_mu[j] * A_mu[i] + g_s * (A_mu[i] * A_mu[j] - A_mu[j] * A_mu[i])\n",
    "     for j in range(4)]\n",
    "    for i in range(4)\n",
    "])\n",
    "\n",
    "# Gluon Lagrangian: -1/4 G_mu_nu^2\n",
    "L_gluon = -sp.sqrt(-g) * (1 / 4) * sp.trace(G_mu_nu.T @ G_mu_nu)\n",
    "\n",
    "# Total Lagrangian\n",
    "L_qcd = L_quark + L_gluon\n",
    "\n",
    "print(\"Quark Lagrangian:\")\n",
    "sp.pprint(L_quark)\n",
    "\n",
    "print(\"\\nGluon Lagrangian:\")\n",
    "sp.pprint(L_gluon)\n"
   ]
  },
  {
   "cell_type": "code",
   "execution_count": 2,
   "metadata": {
    "colab": {
     "base_uri": "https://localhost:8080/",
     "height": 91
    },
    "id": "sXTdN4ZqKMk9",
    "outputId": "eed9f54d-ce5b-41d6-d391-f8036d1dad28"
   },
   "outputs": [
    {
     "data": {
      "text/latex": [
       "$\\displaystyle \\sqrt{- g{\\left(x,y,z,t \\right)}} \\left(\\psi_{1} \\left(i \\gamma_{1 0} \\psi_{2} \\left(- i g_{s} A_{t}{\\left(t,x,y,z \\right)} + \\operatorname{partial}_{t}{\\left(t,x,y,z \\right)}\\right) + i \\gamma_{2 0} \\psi_{3} \\left(- i g_{s} A_{t}{\\left(t,x,y,z \\right)} + \\operatorname{partial}_{t}{\\left(t,x,y,z \\right)}\\right) + i \\gamma_{3 0} \\psi_{4} \\left(- i g_{s} A_{t}{\\left(t,x,y,z \\right)} + \\operatorname{partial}_{t}{\\left(t,x,y,z \\right)}\\right) + \\psi_{1} \\left(i \\gamma_{0 0} \\left(- i g_{s} A_{t}{\\left(t,x,y,z \\right)} + \\operatorname{partial}_{t}{\\left(t,x,y,z \\right)}\\right) - m\\right)\\right) + \\psi_{2} \\left(i \\gamma_{0 1} \\psi_{1} \\left(- i g_{s} A_{x}{\\left(t,x,y,z \\right)} + \\operatorname{partial}_{x}{\\left(t,x,y,z \\right)}\\right) + i \\gamma_{2 1} \\psi_{3} \\left(- i g_{s} A_{x}{\\left(t,x,y,z \\right)} + \\operatorname{partial}_{x}{\\left(t,x,y,z \\right)}\\right) + i \\gamma_{3 1} \\psi_{4} \\left(- i g_{s} A_{x}{\\left(t,x,y,z \\right)} + \\operatorname{partial}_{x}{\\left(t,x,y,z \\right)}\\right) + \\psi_{2} \\left(i \\gamma_{1 1} \\left(- i g_{s} A_{x}{\\left(t,x,y,z \\right)} + \\operatorname{partial}_{x}{\\left(t,x,y,z \\right)}\\right) - m\\right)\\right) + \\psi_{3} \\left(i \\gamma_{0 2} \\psi_{1} \\left(- i g_{s} A_{y}{\\left(t,x,y,z \\right)} + \\operatorname{partial}_{y}{\\left(t,x,y,z \\right)}\\right) + i \\gamma_{1 2} \\psi_{2} \\left(- i g_{s} A_{y}{\\left(t,x,y,z \\right)} + \\operatorname{partial}_{y}{\\left(t,x,y,z \\right)}\\right) + i \\gamma_{3 2} \\psi_{4} \\left(- i g_{s} A_{y}{\\left(t,x,y,z \\right)} + \\operatorname{partial}_{y}{\\left(t,x,y,z \\right)}\\right) + \\psi_{3} \\left(i \\gamma_{2 2} \\left(- i g_{s} A_{y}{\\left(t,x,y,z \\right)} + \\operatorname{partial}_{y}{\\left(t,x,y,z \\right)}\\right) - m\\right)\\right) + \\psi_{4} \\left(i \\gamma_{0 3} \\psi_{1} \\left(- i g_{s} A_{z}{\\left(t,x,y,z \\right)} + \\operatorname{partial}_{z}{\\left(t,x,y,z \\right)}\\right) + i \\gamma_{1 3} \\psi_{2} \\left(- i g_{s} A_{z}{\\left(t,x,y,z \\right)} + \\operatorname{partial}_{z}{\\left(t,x,y,z \\right)}\\right) + i \\gamma_{2 3} \\psi_{3} \\left(- i g_{s} A_{z}{\\left(t,x,y,z \\right)} + \\operatorname{partial}_{z}{\\left(t,x,y,z \\right)}\\right) + \\psi_{4} \\left(i \\gamma_{3 3} \\left(- i g_{s} A_{z}{\\left(t,x,y,z \\right)} + \\operatorname{partial}_{z}{\\left(t,x,y,z \\right)}\\right) - m\\right)\\right)\\right) - 0.25 \\sqrt{- g{\\left(x,y,z,t \\right)}} \\left(\\left(- A_{t}{\\left(t,x,y,z \\right)} \\operatorname{partial}_{x}{\\left(t,x,y,z \\right)} + A_{x}{\\left(t,x,y,z \\right)} \\operatorname{partial}_{t}{\\left(t,x,y,z \\right)}\\right)^{2} + \\left(A_{t}{\\left(t,x,y,z \\right)} \\operatorname{partial}_{x}{\\left(t,x,y,z \\right)} - A_{x}{\\left(t,x,y,z \\right)} \\operatorname{partial}_{t}{\\left(t,x,y,z \\right)}\\right)^{2} + \\left(- A_{t}{\\left(t,x,y,z \\right)} \\operatorname{partial}_{y}{\\left(t,x,y,z \\right)} + A_{y}{\\left(t,x,y,z \\right)} \\operatorname{partial}_{t}{\\left(t,x,y,z \\right)}\\right)^{2} + \\left(A_{t}{\\left(t,x,y,z \\right)} \\operatorname{partial}_{y}{\\left(t,x,y,z \\right)} - A_{y}{\\left(t,x,y,z \\right)} \\operatorname{partial}_{t}{\\left(t,x,y,z \\right)}\\right)^{2} + \\left(- A_{t}{\\left(t,x,y,z \\right)} \\operatorname{partial}_{z}{\\left(t,x,y,z \\right)} + A_{z}{\\left(t,x,y,z \\right)} \\operatorname{partial}_{t}{\\left(t,x,y,z \\right)}\\right)^{2} + \\left(A_{t}{\\left(t,x,y,z \\right)} \\operatorname{partial}_{z}{\\left(t,x,y,z \\right)} - A_{z}{\\left(t,x,y,z \\right)} \\operatorname{partial}_{t}{\\left(t,x,y,z \\right)}\\right)^{2} + \\left(- A_{x}{\\left(t,x,y,z \\right)} \\operatorname{partial}_{y}{\\left(t,x,y,z \\right)} + A_{y}{\\left(t,x,y,z \\right)} \\operatorname{partial}_{x}{\\left(t,x,y,z \\right)}\\right)^{2} + \\left(A_{x}{\\left(t,x,y,z \\right)} \\operatorname{partial}_{y}{\\left(t,x,y,z \\right)} - A_{y}{\\left(t,x,y,z \\right)} \\operatorname{partial}_{x}{\\left(t,x,y,z \\right)}\\right)^{2} + \\left(- A_{x}{\\left(t,x,y,z \\right)} \\operatorname{partial}_{z}{\\left(t,x,y,z \\right)} + A_{z}{\\left(t,x,y,z \\right)} \\operatorname{partial}_{x}{\\left(t,x,y,z \\right)}\\right)^{2} + \\left(A_{x}{\\left(t,x,y,z \\right)} \\operatorname{partial}_{z}{\\left(t,x,y,z \\right)} - A_{z}{\\left(t,x,y,z \\right)} \\operatorname{partial}_{x}{\\left(t,x,y,z \\right)}\\right)^{2} + \\left(- A_{y}{\\left(t,x,y,z \\right)} \\operatorname{partial}_{z}{\\left(t,x,y,z \\right)} + A_{z}{\\left(t,x,y,z \\right)} \\operatorname{partial}_{y}{\\left(t,x,y,z \\right)}\\right)^{2} + \\left(A_{y}{\\left(t,x,y,z \\right)} \\operatorname{partial}_{z}{\\left(t,x,y,z \\right)} - A_{z}{\\left(t,x,y,z \\right)} \\operatorname{partial}_{y}{\\left(t,x,y,z \\right)}\\right)^{2}\\right)$"
      ],
      "text/plain": [
       "sqrt(-g(x, y, z, t))*(psi_1*(I*gamma_1_0*psi_2*(-I*g_s*A_t(t, x, y, z) + partial_t(t, x, y, z)) + I*gamma_2_0*psi_3*(-I*g_s*A_t(t, x, y, z) + partial_t(t, x, y, z)) + I*gamma_3_0*psi_4*(-I*g_s*A_t(t, x, y, z) + partial_t(t, x, y, z)) + psi_1*(I*gamma_0_0*(-I*g_s*A_t(t, x, y, z) + partial_t(t, x, y, z)) - m)) + psi_2*(I*gamma_0_1*psi_1*(-I*g_s*A_x(t, x, y, z) + partial_x(t, x, y, z)) + I*gamma_2_1*psi_3*(-I*g_s*A_x(t, x, y, z) + partial_x(t, x, y, z)) + I*gamma_3_1*psi_4*(-I*g_s*A_x(t, x, y, z) + partial_x(t, x, y, z)) + psi_2*(I*gamma_1_1*(-I*g_s*A_x(t, x, y, z) + partial_x(t, x, y, z)) - m)) + psi_3*(I*gamma_0_2*psi_1*(-I*g_s*A_y(t, x, y, z) + partial_y(t, x, y, z)) + I*gamma_1_2*psi_2*(-I*g_s*A_y(t, x, y, z) + partial_y(t, x, y, z)) + I*gamma_3_2*psi_4*(-I*g_s*A_y(t, x, y, z) + partial_y(t, x, y, z)) + psi_3*(I*gamma_2_2*(-I*g_s*A_y(t, x, y, z) + partial_y(t, x, y, z)) - m)) + psi_4*(I*gamma_0_3*psi_1*(-I*g_s*A_z(t, x, y, z) + partial_z(t, x, y, z)) + I*gamma_1_3*psi_2*(-I*g_s*A_z(t, x, y, z) + partial_z(t, x, y, z)) + I*gamma_2_3*psi_3*(-I*g_s*A_z(t, x, y, z) + partial_z(t, x, y, z)) + psi_4*(I*gamma_3_3*(-I*g_s*A_z(t, x, y, z) + partial_z(t, x, y, z)) - m))) - 0.25*sqrt(-g(x, y, z, t))*((-A_t(t, x, y, z)*partial_x(t, x, y, z) + A_x(t, x, y, z)*partial_t(t, x, y, z))**2 + (A_t(t, x, y, z)*partial_x(t, x, y, z) - A_x(t, x, y, z)*partial_t(t, x, y, z))**2 + (-A_t(t, x, y, z)*partial_y(t, x, y, z) + A_y(t, x, y, z)*partial_t(t, x, y, z))**2 + (A_t(t, x, y, z)*partial_y(t, x, y, z) - A_y(t, x, y, z)*partial_t(t, x, y, z))**2 + (-A_t(t, x, y, z)*partial_z(t, x, y, z) + A_z(t, x, y, z)*partial_t(t, x, y, z))**2 + (A_t(t, x, y, z)*partial_z(t, x, y, z) - A_z(t, x, y, z)*partial_t(t, x, y, z))**2 + (-A_x(t, x, y, z)*partial_y(t, x, y, z) + A_y(t, x, y, z)*partial_x(t, x, y, z))**2 + (A_x(t, x, y, z)*partial_y(t, x, y, z) - A_y(t, x, y, z)*partial_x(t, x, y, z))**2 + (-A_x(t, x, y, z)*partial_z(t, x, y, z) + A_z(t, x, y, z)*partial_x(t, x, y, z))**2 + (A_x(t, x, y, z)*partial_z(t, x, y, z) - A_z(t, x, y, z)*partial_x(t, x, y, z))**2 + (-A_y(t, x, y, z)*partial_z(t, x, y, z) + A_z(t, x, y, z)*partial_y(t, x, y, z))**2 + (A_y(t, x, y, z)*partial_z(t, x, y, z) - A_z(t, x, y, z)*partial_y(t, x, y, z))**2)"
      ]
     },
     "execution_count": 2,
     "metadata": {},
     "output_type": "execute_result"
    }
   ],
   "source": [
    "L_qcd"
   ]
  },
  {
   "cell_type": "code",
   "execution_count": null,
   "metadata": {
    "id": "P5W-PfS3TfuR"
   },
   "outputs": [],
   "source": []
  },
  {
   "cell_type": "code",
   "execution_count": null,
   "metadata": {
    "id": "ieNZ4CQTTfw6"
   },
   "outputs": [],
   "source": [
    "# Euler-Lagrange equations\n",
    "def euler_lagrange(L, field, coords):\n",
    "    \"\"\"\n",
    "    Compute the Euler-Lagrange equation for a given Lagrangian and field.\n",
    "\n",
    "    Parameters:\n",
    "    - L: The Lagrangian\n",
    "    - field: The field (e.g., psi or A_mu)\n",
    "    - coords: The spacetime coordinates (e.g., t, x, y, z)\n",
    "\n",
    "    Returns:\n",
    "    - The Euler-Lagrange equation as a simplified expression\n",
    "    \"\"\"\n",
    "    # Partial derivative of L with respect to the field\n",
    "    dL_dfield = sp.diff(L, field)\n",
    "\n",
    "    # Partial derivative of L with respect to the derivatives of the field\n",
    "    dL_dfield_deriv = sp.Matrix([sp.diff(L, sp.diff(field, coord)) for coord in coords])\n",
    "\n",
    "    # Divergence of dL_dfield_deriv\n",
    "    divergence_term = sp.Matrix([sp.diff(dL_dfield_deriv[i], coords[i]) for i in range(len(coords))])\n",
    "\n",
    "    # Combine terms to form the Euler-Lagrange equation\n",
    "    eom = sp.simplify(dL_dfield - divergence_term)\n",
    "\n",
    "    return eom\n",
    "\n",
    "# Derive equations of motion for quarks and gluons\n",
    "EOM_quark = euler_lagrange(L_qcd, psi, coords)\n",
    "EOM_gluon = euler_lagrange(L_qcd, A_mu, coords)\n",
    "\n",
    "# Output results\n",
    "print(\"QCD Lagrangian in Curved Spacetime:\")\n",
    "sp.pprint(L_qcd)\n",
    "print(\"\\nEquations of Motion for Quarks:\")\n",
    "sp.pprint(EOM_quark)\n",
    "print(\"\\nEquations of Motion for Gluons:\")\n",
    "sp.pprint(EOM_gluon)\n"
   ]
  },
  {
   "cell_type": "code",
   "execution_count": null,
   "metadata": {
    "colab": {
     "base_uri": "https://localhost:8080/",
     "height": 91
    },
    "id": "hwe2WaJzRtk1",
    "outputId": "3f5d6e36-1528-4f52-9e12-6922a086fdf7"
   },
   "outputs": [
    {
     "data": {
      "text/latex": [
       "$\\displaystyle \\sqrt{- g{\\left(x,y,z,t \\right)}} \\left(\\psi_{1} \\left(i \\gamma_{1 0} \\psi_{2} \\left(- i g_{s} A_{t}{\\left(t,x,y,z \\right)} + \\operatorname{partial}_{t}{\\left(t,x,y,z \\right)}\\right) + i \\gamma_{2 0} \\psi_{3} \\left(- i g_{s} A_{t}{\\left(t,x,y,z \\right)} + \\operatorname{partial}_{t}{\\left(t,x,y,z \\right)}\\right) + i \\gamma_{3 0} \\psi_{4} \\left(- i g_{s} A_{t}{\\left(t,x,y,z \\right)} + \\operatorname{partial}_{t}{\\left(t,x,y,z \\right)}\\right) + \\psi_{1} \\left(i \\gamma_{0 0} \\left(- i g_{s} A_{t}{\\left(t,x,y,z \\right)} + \\operatorname{partial}_{t}{\\left(t,x,y,z \\right)}\\right) - m\\right)\\right) + \\psi_{2} \\left(i \\gamma_{0 1} \\psi_{1} \\left(- i g_{s} A_{x}{\\left(t,x,y,z \\right)} + \\operatorname{partial}_{x}{\\left(t,x,y,z \\right)}\\right) + i \\gamma_{2 1} \\psi_{3} \\left(- i g_{s} A_{x}{\\left(t,x,y,z \\right)} + \\operatorname{partial}_{x}{\\left(t,x,y,z \\right)}\\right) + i \\gamma_{3 1} \\psi_{4} \\left(- i g_{s} A_{x}{\\left(t,x,y,z \\right)} + \\operatorname{partial}_{x}{\\left(t,x,y,z \\right)}\\right) + \\psi_{2} \\left(i \\gamma_{1 1} \\left(- i g_{s} A_{x}{\\left(t,x,y,z \\right)} + \\operatorname{partial}_{x}{\\left(t,x,y,z \\right)}\\right) - m\\right)\\right) + \\psi_{3} \\left(i \\gamma_{0 2} \\psi_{1} \\left(- i g_{s} A_{y}{\\left(t,x,y,z \\right)} + \\operatorname{partial}_{y}{\\left(t,x,y,z \\right)}\\right) + i \\gamma_{1 2} \\psi_{2} \\left(- i g_{s} A_{y}{\\left(t,x,y,z \\right)} + \\operatorname{partial}_{y}{\\left(t,x,y,z \\right)}\\right) + i \\gamma_{3 2} \\psi_{4} \\left(- i g_{s} A_{y}{\\left(t,x,y,z \\right)} + \\operatorname{partial}_{y}{\\left(t,x,y,z \\right)}\\right) + \\psi_{3} \\left(i \\gamma_{2 2} \\left(- i g_{s} A_{y}{\\left(t,x,y,z \\right)} + \\operatorname{partial}_{y}{\\left(t,x,y,z \\right)}\\right) - m\\right)\\right) + \\psi_{4} \\left(i \\gamma_{0 3} \\psi_{1} \\left(- i g_{s} A_{z}{\\left(t,x,y,z \\right)} + \\operatorname{partial}_{z}{\\left(t,x,y,z \\right)}\\right) + i \\gamma_{1 3} \\psi_{2} \\left(- i g_{s} A_{z}{\\left(t,x,y,z \\right)} + \\operatorname{partial}_{z}{\\left(t,x,y,z \\right)}\\right) + i \\gamma_{2 3} \\psi_{3} \\left(- i g_{s} A_{z}{\\left(t,x,y,z \\right)} + \\operatorname{partial}_{z}{\\left(t,x,y,z \\right)}\\right) + \\psi_{4} \\left(i \\gamma_{3 3} \\left(- i g_{s} A_{z}{\\left(t,x,y,z \\right)} + \\operatorname{partial}_{z}{\\left(t,x,y,z \\right)}\\right) - m\\right)\\right)\\right) - 0.25 \\sqrt{- g{\\left(x,y,z,t \\right)}} \\left(\\left(- A_{t}{\\left(t,x,y,z \\right)} \\operatorname{partial}_{x}{\\left(t,x,y,z \\right)} + A_{x}{\\left(t,x,y,z \\right)} \\operatorname{partial}_{t}{\\left(t,x,y,z \\right)}\\right)^{2} + \\left(A_{t}{\\left(t,x,y,z \\right)} \\operatorname{partial}_{x}{\\left(t,x,y,z \\right)} - A_{x}{\\left(t,x,y,z \\right)} \\operatorname{partial}_{t}{\\left(t,x,y,z \\right)}\\right)^{2} + \\left(- A_{t}{\\left(t,x,y,z \\right)} \\operatorname{partial}_{y}{\\left(t,x,y,z \\right)} + A_{y}{\\left(t,x,y,z \\right)} \\operatorname{partial}_{t}{\\left(t,x,y,z \\right)}\\right)^{2} + \\left(A_{t}{\\left(t,x,y,z \\right)} \\operatorname{partial}_{y}{\\left(t,x,y,z \\right)} - A_{y}{\\left(t,x,y,z \\right)} \\operatorname{partial}_{t}{\\left(t,x,y,z \\right)}\\right)^{2} + \\left(- A_{t}{\\left(t,x,y,z \\right)} \\operatorname{partial}_{z}{\\left(t,x,y,z \\right)} + A_{z}{\\left(t,x,y,z \\right)} \\operatorname{partial}_{t}{\\left(t,x,y,z \\right)}\\right)^{2} + \\left(A_{t}{\\left(t,x,y,z \\right)} \\operatorname{partial}_{z}{\\left(t,x,y,z \\right)} - A_{z}{\\left(t,x,y,z \\right)} \\operatorname{partial}_{t}{\\left(t,x,y,z \\right)}\\right)^{2} + \\left(- A_{x}{\\left(t,x,y,z \\right)} \\operatorname{partial}_{y}{\\left(t,x,y,z \\right)} + A_{y}{\\left(t,x,y,z \\right)} \\operatorname{partial}_{x}{\\left(t,x,y,z \\right)}\\right)^{2} + \\left(A_{x}{\\left(t,x,y,z \\right)} \\operatorname{partial}_{y}{\\left(t,x,y,z \\right)} - A_{y}{\\left(t,x,y,z \\right)} \\operatorname{partial}_{x}{\\left(t,x,y,z \\right)}\\right)^{2} + \\left(- A_{x}{\\left(t,x,y,z \\right)} \\operatorname{partial}_{z}{\\left(t,x,y,z \\right)} + A_{z}{\\left(t,x,y,z \\right)} \\operatorname{partial}_{x}{\\left(t,x,y,z \\right)}\\right)^{2} + \\left(A_{x}{\\left(t,x,y,z \\right)} \\operatorname{partial}_{z}{\\left(t,x,y,z \\right)} - A_{z}{\\left(t,x,y,z \\right)} \\operatorname{partial}_{x}{\\left(t,x,y,z \\right)}\\right)^{2} + \\left(- A_{y}{\\left(t,x,y,z \\right)} \\operatorname{partial}_{z}{\\left(t,x,y,z \\right)} + A_{z}{\\left(t,x,y,z \\right)} \\operatorname{partial}_{y}{\\left(t,x,y,z \\right)}\\right)^{2} + \\left(A_{y}{\\left(t,x,y,z \\right)} \\operatorname{partial}_{z}{\\left(t,x,y,z \\right)} - A_{z}{\\left(t,x,y,z \\right)} \\operatorname{partial}_{y}{\\left(t,x,y,z \\right)}\\right)^{2}\\right)$"
      ],
      "text/plain": [
       "sqrt(-g(x, y, z, t))*(psi_1*(I*gamma_1_0*psi_2*(-I*g_s*A_t(t, x, y, z) + partial_t(t, x, y, z)) + I*gamma_2_0*psi_3*(-I*g_s*A_t(t, x, y, z) + partial_t(t, x, y, z)) + I*gamma_3_0*psi_4*(-I*g_s*A_t(t, x, y, z) + partial_t(t, x, y, z)) + psi_1*(I*gamma_0_0*(-I*g_s*A_t(t, x, y, z) + partial_t(t, x, y, z)) - m)) + psi_2*(I*gamma_0_1*psi_1*(-I*g_s*A_x(t, x, y, z) + partial_x(t, x, y, z)) + I*gamma_2_1*psi_3*(-I*g_s*A_x(t, x, y, z) + partial_x(t, x, y, z)) + I*gamma_3_1*psi_4*(-I*g_s*A_x(t, x, y, z) + partial_x(t, x, y, z)) + psi_2*(I*gamma_1_1*(-I*g_s*A_x(t, x, y, z) + partial_x(t, x, y, z)) - m)) + psi_3*(I*gamma_0_2*psi_1*(-I*g_s*A_y(t, x, y, z) + partial_y(t, x, y, z)) + I*gamma_1_2*psi_2*(-I*g_s*A_y(t, x, y, z) + partial_y(t, x, y, z)) + I*gamma_3_2*psi_4*(-I*g_s*A_y(t, x, y, z) + partial_y(t, x, y, z)) + psi_3*(I*gamma_2_2*(-I*g_s*A_y(t, x, y, z) + partial_y(t, x, y, z)) - m)) + psi_4*(I*gamma_0_3*psi_1*(-I*g_s*A_z(t, x, y, z) + partial_z(t, x, y, z)) + I*gamma_1_3*psi_2*(-I*g_s*A_z(t, x, y, z) + partial_z(t, x, y, z)) + I*gamma_2_3*psi_3*(-I*g_s*A_z(t, x, y, z) + partial_z(t, x, y, z)) + psi_4*(I*gamma_3_3*(-I*g_s*A_z(t, x, y, z) + partial_z(t, x, y, z)) - m))) - 0.25*sqrt(-g(x, y, z, t))*((-A_t(t, x, y, z)*partial_x(t, x, y, z) + A_x(t, x, y, z)*partial_t(t, x, y, z))**2 + (A_t(t, x, y, z)*partial_x(t, x, y, z) - A_x(t, x, y, z)*partial_t(t, x, y, z))**2 + (-A_t(t, x, y, z)*partial_y(t, x, y, z) + A_y(t, x, y, z)*partial_t(t, x, y, z))**2 + (A_t(t, x, y, z)*partial_y(t, x, y, z) - A_y(t, x, y, z)*partial_t(t, x, y, z))**2 + (-A_t(t, x, y, z)*partial_z(t, x, y, z) + A_z(t, x, y, z)*partial_t(t, x, y, z))**2 + (A_t(t, x, y, z)*partial_z(t, x, y, z) - A_z(t, x, y, z)*partial_t(t, x, y, z))**2 + (-A_x(t, x, y, z)*partial_y(t, x, y, z) + A_y(t, x, y, z)*partial_x(t, x, y, z))**2 + (A_x(t, x, y, z)*partial_y(t, x, y, z) - A_y(t, x, y, z)*partial_x(t, x, y, z))**2 + (-A_x(t, x, y, z)*partial_z(t, x, y, z) + A_z(t, x, y, z)*partial_x(t, x, y, z))**2 + (A_x(t, x, y, z)*partial_z(t, x, y, z) - A_z(t, x, y, z)*partial_x(t, x, y, z))**2 + (-A_y(t, x, y, z)*partial_z(t, x, y, z) + A_z(t, x, y, z)*partial_y(t, x, y, z))**2 + (A_y(t, x, y, z)*partial_z(t, x, y, z) - A_z(t, x, y, z)*partial_y(t, x, y, z))**2)"
      ]
     },
     "execution_count": 50,
     "metadata": {},
     "output_type": "execute_result"
    }
   ],
   "source": [
    "L_qcd"
   ]
  },
  {
   "cell_type": "code",
   "execution_count": null,
   "metadata": {
    "colab": {
     "base_uri": "https://localhost:8080/",
     "height": 67
    },
    "id": "nfA87x00SchL",
    "outputId": "de260b40-d245-455e-c172-b2bafeb22372"
   },
   "outputs": [
    {
     "data": {
      "text/latex": [
       "$\\displaystyle - 0.25 \\sqrt{- g{\\left(x,y,z,t \\right)}} \\left(\\left(- A_{t}{\\left(t,x,y,z \\right)} \\operatorname{partial}_{x}{\\left(t,x,y,z \\right)} + A_{x}{\\left(t,x,y,z \\right)} \\operatorname{partial}_{t}{\\left(t,x,y,z \\right)}\\right)^{2} + \\left(A_{t}{\\left(t,x,y,z \\right)} \\operatorname{partial}_{x}{\\left(t,x,y,z \\right)} - A_{x}{\\left(t,x,y,z \\right)} \\operatorname{partial}_{t}{\\left(t,x,y,z \\right)}\\right)^{2} + \\left(- A_{t}{\\left(t,x,y,z \\right)} \\operatorname{partial}_{y}{\\left(t,x,y,z \\right)} + A_{y}{\\left(t,x,y,z \\right)} \\operatorname{partial}_{t}{\\left(t,x,y,z \\right)}\\right)^{2} + \\left(A_{t}{\\left(t,x,y,z \\right)} \\operatorname{partial}_{y}{\\left(t,x,y,z \\right)} - A_{y}{\\left(t,x,y,z \\right)} \\operatorname{partial}_{t}{\\left(t,x,y,z \\right)}\\right)^{2} + \\left(- A_{t}{\\left(t,x,y,z \\right)} \\operatorname{partial}_{z}{\\left(t,x,y,z \\right)} + A_{z}{\\left(t,x,y,z \\right)} \\operatorname{partial}_{t}{\\left(t,x,y,z \\right)}\\right)^{2} + \\left(A_{t}{\\left(t,x,y,z \\right)} \\operatorname{partial}_{z}{\\left(t,x,y,z \\right)} - A_{z}{\\left(t,x,y,z \\right)} \\operatorname{partial}_{t}{\\left(t,x,y,z \\right)}\\right)^{2} + \\left(- A_{x}{\\left(t,x,y,z \\right)} \\operatorname{partial}_{y}{\\left(t,x,y,z \\right)} + A_{y}{\\left(t,x,y,z \\right)} \\operatorname{partial}_{x}{\\left(t,x,y,z \\right)}\\right)^{2} + \\left(A_{x}{\\left(t,x,y,z \\right)} \\operatorname{partial}_{y}{\\left(t,x,y,z \\right)} - A_{y}{\\left(t,x,y,z \\right)} \\operatorname{partial}_{x}{\\left(t,x,y,z \\right)}\\right)^{2} + \\left(- A_{x}{\\left(t,x,y,z \\right)} \\operatorname{partial}_{z}{\\left(t,x,y,z \\right)} + A_{z}{\\left(t,x,y,z \\right)} \\operatorname{partial}_{x}{\\left(t,x,y,z \\right)}\\right)^{2} + \\left(A_{x}{\\left(t,x,y,z \\right)} \\operatorname{partial}_{z}{\\left(t,x,y,z \\right)} - A_{z}{\\left(t,x,y,z \\right)} \\operatorname{partial}_{x}{\\left(t,x,y,z \\right)}\\right)^{2} + \\left(- A_{y}{\\left(t,x,y,z \\right)} \\operatorname{partial}_{z}{\\left(t,x,y,z \\right)} + A_{z}{\\left(t,x,y,z \\right)} \\operatorname{partial}_{y}{\\left(t,x,y,z \\right)}\\right)^{2} + \\left(A_{y}{\\left(t,x,y,z \\right)} \\operatorname{partial}_{z}{\\left(t,x,y,z \\right)} - A_{z}{\\left(t,x,y,z \\right)} \\operatorname{partial}_{y}{\\left(t,x,y,z \\right)}\\right)^{2}\\right)$"
      ],
      "text/plain": [
       "-0.25*sqrt(-g(x, y, z, t))*((-A_t(t, x, y, z)*partial_x(t, x, y, z) + A_x(t, x, y, z)*partial_t(t, x, y, z))**2 + (A_t(t, x, y, z)*partial_x(t, x, y, z) - A_x(t, x, y, z)*partial_t(t, x, y, z))**2 + (-A_t(t, x, y, z)*partial_y(t, x, y, z) + A_y(t, x, y, z)*partial_t(t, x, y, z))**2 + (A_t(t, x, y, z)*partial_y(t, x, y, z) - A_y(t, x, y, z)*partial_t(t, x, y, z))**2 + (-A_t(t, x, y, z)*partial_z(t, x, y, z) + A_z(t, x, y, z)*partial_t(t, x, y, z))**2 + (A_t(t, x, y, z)*partial_z(t, x, y, z) - A_z(t, x, y, z)*partial_t(t, x, y, z))**2 + (-A_x(t, x, y, z)*partial_y(t, x, y, z) + A_y(t, x, y, z)*partial_x(t, x, y, z))**2 + (A_x(t, x, y, z)*partial_y(t, x, y, z) - A_y(t, x, y, z)*partial_x(t, x, y, z))**2 + (-A_x(t, x, y, z)*partial_z(t, x, y, z) + A_z(t, x, y, z)*partial_x(t, x, y, z))**2 + (A_x(t, x, y, z)*partial_z(t, x, y, z) - A_z(t, x, y, z)*partial_x(t, x, y, z))**2 + (-A_y(t, x, y, z)*partial_z(t, x, y, z) + A_z(t, x, y, z)*partial_y(t, x, y, z))**2 + (A_y(t, x, y, z)*partial_z(t, x, y, z) - A_z(t, x, y, z)*partial_y(t, x, y, z))**2)"
      ]
     },
     "execution_count": 53,
     "metadata": {},
     "output_type": "execute_result"
    }
   ],
   "source": [
    "L_gluon"
   ]
  },
  {
   "cell_type": "code",
   "execution_count": null,
   "metadata": {
    "colab": {
     "base_uri": "https://localhost:8080/",
     "height": 791
    },
    "id": "F9bWmC40RlYv",
    "outputId": "fca4609d-2b0d-4b74-8d1f-b69fc214d8e4"
   },
   "outputs": [
    {
     "name": "stdout",
     "output_type": "stream",
     "text": [
      "Covariant Derivative Component 0: A0(t, x, y, z)*Derivative(g(t, x, y, z), t)/(2*g(t, x, y, z)) + A0(t, x, y, z)*Derivative(g(t, x, y, z), x)/(2*g(t, x, y, z)) + A0(t, x, y, z)*Derivative(g(t, x, y, z), y)/(2*g(t, x, y, z)) + A0(t, x, y, z)*Derivative(g(t, x, y, z), z)/(2*g(t, x, y, z)) - A1(t, x, y, z)*Derivative(g(t, x, y, z), t)/(2*g(t, x, y, z)) + A1(t, x, y, z)*Derivative(g(t, x, y, z), x)/(2*g(t, x, y, z)) - A2(t, x, y, z)*Derivative(g(t, x, y, z), t)/(2*g(t, x, y, z)) + A2(t, x, y, z)*Derivative(g(t, x, y, z), y)/(2*g(t, x, y, z)) - A3(t, x, y, z)*Derivative(g(t, x, y, z), t)/(2*g(t, x, y, z)) + A3(t, x, y, z)*Derivative(g(t, x, y, z), z)/(2*g(t, x, y, z)) + Derivative(A0(t, x, y, z), t)\n",
      "Covariant Derivative Component 1: A0(t, x, y, z)*Derivative(g(t, x, y, z), t)/(2*g(t, x, y, z)) - A0(t, x, y, z)*Derivative(g(t, x, y, z), x)/(2*g(t, x, y, z)) + A1(t, x, y, z)*Derivative(g(t, x, y, z), t)/(2*g(t, x, y, z)) + A1(t, x, y, z)*Derivative(g(t, x, y, z), x)/(2*g(t, x, y, z)) + A1(t, x, y, z)*Derivative(g(t, x, y, z), y)/(2*g(t, x, y, z)) + A1(t, x, y, z)*Derivative(g(t, x, y, z), z)/(2*g(t, x, y, z)) - A2(t, x, y, z)*Derivative(g(t, x, y, z), x)/(2*g(t, x, y, z)) + A2(t, x, y, z)*Derivative(g(t, x, y, z), y)/(2*g(t, x, y, z)) - A3(t, x, y, z)*Derivative(g(t, x, y, z), x)/(2*g(t, x, y, z)) + A3(t, x, y, z)*Derivative(g(t, x, y, z), z)/(2*g(t, x, y, z)) + Derivative(A1(t, x, y, z), x)\n",
      "Covariant Derivative Component 2: A0(t, x, y, z)*Derivative(g(t, x, y, z), t)/(2*g(t, x, y, z)) - A0(t, x, y, z)*Derivative(g(t, x, y, z), y)/(2*g(t, x, y, z)) + A1(t, x, y, z)*Derivative(g(t, x, y, z), x)/(2*g(t, x, y, z)) - A1(t, x, y, z)*Derivative(g(t, x, y, z), y)/(2*g(t, x, y, z)) + A2(t, x, y, z)*Derivative(g(t, x, y, z), t)/(2*g(t, x, y, z)) + A2(t, x, y, z)*Derivative(g(t, x, y, z), x)/(2*g(t, x, y, z)) + A2(t, x, y, z)*Derivative(g(t, x, y, z), y)/(2*g(t, x, y, z)) + A2(t, x, y, z)*Derivative(g(t, x, y, z), z)/(2*g(t, x, y, z)) - A3(t, x, y, z)*Derivative(g(t, x, y, z), y)/(2*g(t, x, y, z)) + A3(t, x, y, z)*Derivative(g(t, x, y, z), z)/(2*g(t, x, y, z)) + Derivative(A2(t, x, y, z), y)\n",
      "Covariant Derivative Component 3: A0(t, x, y, z)*Derivative(g(t, x, y, z), t)/(2*g(t, x, y, z)) - A0(t, x, y, z)*Derivative(g(t, x, y, z), z)/(2*g(t, x, y, z)) + A1(t, x, y, z)*Derivative(g(t, x, y, z), x)/(2*g(t, x, y, z)) - A1(t, x, y, z)*Derivative(g(t, x, y, z), z)/(2*g(t, x, y, z)) + A2(t, x, y, z)*Derivative(g(t, x, y, z), y)/(2*g(t, x, y, z)) - A2(t, x, y, z)*Derivative(g(t, x, y, z), z)/(2*g(t, x, y, z)) + A3(t, x, y, z)*Derivative(g(t, x, y, z), t)/(2*g(t, x, y, z)) + A3(t, x, y, z)*Derivative(g(t, x, y, z), x)/(2*g(t, x, y, z)) + A3(t, x, y, z)*Derivative(g(t, x, y, z), y)/(2*g(t, x, y, z)) + A3(t, x, y, z)*Derivative(g(t, x, y, z), z)/(2*g(t, x, y, z)) + Derivative(A3(t, x, y, z), z)\n",
      "Field Strength Tensor Component F[0,0]: A0(t, x, y, z)*Derivative(g(t, x, y, z), t)/(2*g(t, x, y, z)) + A0(t, x, y, z)*Derivative(g(t, x, y, z), x)/(2*g(t, x, y, z)) + A0(t, x, y, z)*Derivative(g(t, x, y, z), y)/(2*g(t, x, y, z)) + A0(t, x, y, z)*Derivative(g(t, x, y, z), z)/(2*g(t, x, y, z)) - A1(t, x, y, z)*Derivative(g(t, x, y, z), t)/(2*g(t, x, y, z)) + A1(t, x, y, z)*Derivative(g(t, x, y, z), x)/(2*g(t, x, y, z)) - A2(t, x, y, z)*Derivative(g(t, x, y, z), t)/(2*g(t, x, y, z)) + A2(t, x, y, z)*Derivative(g(t, x, y, z), y)/(2*g(t, x, y, z)) - A3(t, x, y, z)*Derivative(g(t, x, y, z), t)/(2*g(t, x, y, z)) + A3(t, x, y, z)*Derivative(g(t, x, y, z), z)/(2*g(t, x, y, z))\n",
      "Field Strength Tensor Component F[0,1]: A0(t, x, y, z)*Derivative(g(t, x, y, z), t)/(2*g(t, x, y, z)) + A0(t, x, y, z)*Derivative(g(t, x, y, z), x)/(2*g(t, x, y, z)) + A0(t, x, y, z)*Derivative(g(t, x, y, z), y)/(2*g(t, x, y, z)) + A0(t, x, y, z)*Derivative(g(t, x, y, z), z)/(2*g(t, x, y, z)) - A1(t, x, y, z)*Derivative(g(t, x, y, z), t)/(2*g(t, x, y, z)) + A1(t, x, y, z)*Derivative(g(t, x, y, z), x)/(2*g(t, x, y, z)) - A2(t, x, y, z)*Derivative(g(t, x, y, z), t)/(2*g(t, x, y, z)) + A2(t, x, y, z)*Derivative(g(t, x, y, z), y)/(2*g(t, x, y, z)) - A3(t, x, y, z)*Derivative(g(t, x, y, z), t)/(2*g(t, x, y, z)) + A3(t, x, y, z)*Derivative(g(t, x, y, z), z)/(2*g(t, x, y, z)) - Derivative(A0(t, x, y, z), x) + Derivative(A1(t, x, y, z), t)\n",
      "Field Strength Tensor Component F[0,2]: A0(t, x, y, z)*Derivative(g(t, x, y, z), t)/(2*g(t, x, y, z)) + A0(t, x, y, z)*Derivative(g(t, x, y, z), x)/(2*g(t, x, y, z)) + A0(t, x, y, z)*Derivative(g(t, x, y, z), y)/(2*g(t, x, y, z)) + A0(t, x, y, z)*Derivative(g(t, x, y, z), z)/(2*g(t, x, y, z)) - A1(t, x, y, z)*Derivative(g(t, x, y, z), t)/(2*g(t, x, y, z)) + A1(t, x, y, z)*Derivative(g(t, x, y, z), x)/(2*g(t, x, y, z)) - A2(t, x, y, z)*Derivative(g(t, x, y, z), t)/(2*g(t, x, y, z)) + A2(t, x, y, z)*Derivative(g(t, x, y, z), y)/(2*g(t, x, y, z)) - A3(t, x, y, z)*Derivative(g(t, x, y, z), t)/(2*g(t, x, y, z)) + A3(t, x, y, z)*Derivative(g(t, x, y, z), z)/(2*g(t, x, y, z)) - Derivative(A0(t, x, y, z), y) + Derivative(A2(t, x, y, z), t)\n",
      "Field Strength Tensor Component F[0,3]: A0(t, x, y, z)*Derivative(g(t, x, y, z), t)/(2*g(t, x, y, z)) + A0(t, x, y, z)*Derivative(g(t, x, y, z), x)/(2*g(t, x, y, z)) + A0(t, x, y, z)*Derivative(g(t, x, y, z), y)/(2*g(t, x, y, z)) + A0(t, x, y, z)*Derivative(g(t, x, y, z), z)/(2*g(t, x, y, z)) - A1(t, x, y, z)*Derivative(g(t, x, y, z), t)/(2*g(t, x, y, z)) + A1(t, x, y, z)*Derivative(g(t, x, y, z), x)/(2*g(t, x, y, z)) - A2(t, x, y, z)*Derivative(g(t, x, y, z), t)/(2*g(t, x, y, z)) + A2(t, x, y, z)*Derivative(g(t, x, y, z), y)/(2*g(t, x, y, z)) - A3(t, x, y, z)*Derivative(g(t, x, y, z), t)/(2*g(t, x, y, z)) + A3(t, x, y, z)*Derivative(g(t, x, y, z), z)/(2*g(t, x, y, z)) - Derivative(A0(t, x, y, z), z) + Derivative(A3(t, x, y, z), t)\n",
      "Field Strength Tensor Component F[1,0]: A0(t, x, y, z)*Derivative(g(t, x, y, z), t)/(2*g(t, x, y, z)) - A0(t, x, y, z)*Derivative(g(t, x, y, z), x)/(2*g(t, x, y, z)) + A1(t, x, y, z)*Derivative(g(t, x, y, z), t)/(2*g(t, x, y, z)) + A1(t, x, y, z)*Derivative(g(t, x, y, z), x)/(2*g(t, x, y, z)) + A1(t, x, y, z)*Derivative(g(t, x, y, z), y)/(2*g(t, x, y, z)) + A1(t, x, y, z)*Derivative(g(t, x, y, z), z)/(2*g(t, x, y, z)) - A2(t, x, y, z)*Derivative(g(t, x, y, z), x)/(2*g(t, x, y, z)) + A2(t, x, y, z)*Derivative(g(t, x, y, z), y)/(2*g(t, x, y, z)) - A3(t, x, y, z)*Derivative(g(t, x, y, z), x)/(2*g(t, x, y, z)) + A3(t, x, y, z)*Derivative(g(t, x, y, z), z)/(2*g(t, x, y, z)) + Derivative(A0(t, x, y, z), x) - Derivative(A1(t, x, y, z), t)\n",
      "Field Strength Tensor Component F[1,1]: A0(t, x, y, z)*Derivative(g(t, x, y, z), t)/(2*g(t, x, y, z)) - A0(t, x, y, z)*Derivative(g(t, x, y, z), x)/(2*g(t, x, y, z)) + A1(t, x, y, z)*Derivative(g(t, x, y, z), t)/(2*g(t, x, y, z)) + A1(t, x, y, z)*Derivative(g(t, x, y, z), x)/(2*g(t, x, y, z)) + A1(t, x, y, z)*Derivative(g(t, x, y, z), y)/(2*g(t, x, y, z)) + A1(t, x, y, z)*Derivative(g(t, x, y, z), z)/(2*g(t, x, y, z)) - A2(t, x, y, z)*Derivative(g(t, x, y, z), x)/(2*g(t, x, y, z)) + A2(t, x, y, z)*Derivative(g(t, x, y, z), y)/(2*g(t, x, y, z)) - A3(t, x, y, z)*Derivative(g(t, x, y, z), x)/(2*g(t, x, y, z)) + A3(t, x, y, z)*Derivative(g(t, x, y, z), z)/(2*g(t, x, y, z))\n",
      "Field Strength Tensor Component F[1,2]: A0(t, x, y, z)*Derivative(g(t, x, y, z), t)/(2*g(t, x, y, z)) - A0(t, x, y, z)*Derivative(g(t, x, y, z), x)/(2*g(t, x, y, z)) + A1(t, x, y, z)*Derivative(g(t, x, y, z), t)/(2*g(t, x, y, z)) + A1(t, x, y, z)*Derivative(g(t, x, y, z), x)/(2*g(t, x, y, z)) + A1(t, x, y, z)*Derivative(g(t, x, y, z), y)/(2*g(t, x, y, z)) + A1(t, x, y, z)*Derivative(g(t, x, y, z), z)/(2*g(t, x, y, z)) - A2(t, x, y, z)*Derivative(g(t, x, y, z), x)/(2*g(t, x, y, z)) + A2(t, x, y, z)*Derivative(g(t, x, y, z), y)/(2*g(t, x, y, z)) - A3(t, x, y, z)*Derivative(g(t, x, y, z), x)/(2*g(t, x, y, z)) + A3(t, x, y, z)*Derivative(g(t, x, y, z), z)/(2*g(t, x, y, z)) - Derivative(A1(t, x, y, z), y) + Derivative(A2(t, x, y, z), x)\n",
      "Field Strength Tensor Component F[1,3]: A0(t, x, y, z)*Derivative(g(t, x, y, z), t)/(2*g(t, x, y, z)) - A0(t, x, y, z)*Derivative(g(t, x, y, z), x)/(2*g(t, x, y, z)) + A1(t, x, y, z)*Derivative(g(t, x, y, z), t)/(2*g(t, x, y, z)) + A1(t, x, y, z)*Derivative(g(t, x, y, z), x)/(2*g(t, x, y, z)) + A1(t, x, y, z)*Derivative(g(t, x, y, z), y)/(2*g(t, x, y, z)) + A1(t, x, y, z)*Derivative(g(t, x, y, z), z)/(2*g(t, x, y, z)) - A2(t, x, y, z)*Derivative(g(t, x, y, z), x)/(2*g(t, x, y, z)) + A2(t, x, y, z)*Derivative(g(t, x, y, z), y)/(2*g(t, x, y, z)) - A3(t, x, y, z)*Derivative(g(t, x, y, z), x)/(2*g(t, x, y, z)) + A3(t, x, y, z)*Derivative(g(t, x, y, z), z)/(2*g(t, x, y, z)) - Derivative(A1(t, x, y, z), z) + Derivative(A3(t, x, y, z), x)\n",
      "Field Strength Tensor Component F[2,0]: A0(t, x, y, z)*Derivative(g(t, x, y, z), t)/(2*g(t, x, y, z)) - A0(t, x, y, z)*Derivative(g(t, x, y, z), y)/(2*g(t, x, y, z)) + A1(t, x, y, z)*Derivative(g(t, x, y, z), x)/(2*g(t, x, y, z)) - A1(t, x, y, z)*Derivative(g(t, x, y, z), y)/(2*g(t, x, y, z)) + A2(t, x, y, z)*Derivative(g(t, x, y, z), t)/(2*g(t, x, y, z)) + A2(t, x, y, z)*Derivative(g(t, x, y, z), x)/(2*g(t, x, y, z)) + A2(t, x, y, z)*Derivative(g(t, x, y, z), y)/(2*g(t, x, y, z)) + A2(t, x, y, z)*Derivative(g(t, x, y, z), z)/(2*g(t, x, y, z)) - A3(t, x, y, z)*Derivative(g(t, x, y, z), y)/(2*g(t, x, y, z)) + A3(t, x, y, z)*Derivative(g(t, x, y, z), z)/(2*g(t, x, y, z)) + Derivative(A0(t, x, y, z), y) - Derivative(A2(t, x, y, z), t)\n",
      "Field Strength Tensor Component F[2,1]: A0(t, x, y, z)*Derivative(g(t, x, y, z), t)/(2*g(t, x, y, z)) - A0(t, x, y, z)*Derivative(g(t, x, y, z), y)/(2*g(t, x, y, z)) + A1(t, x, y, z)*Derivative(g(t, x, y, z), x)/(2*g(t, x, y, z)) - A1(t, x, y, z)*Derivative(g(t, x, y, z), y)/(2*g(t, x, y, z)) + A2(t, x, y, z)*Derivative(g(t, x, y, z), t)/(2*g(t, x, y, z)) + A2(t, x, y, z)*Derivative(g(t, x, y, z), x)/(2*g(t, x, y, z)) + A2(t, x, y, z)*Derivative(g(t, x, y, z), y)/(2*g(t, x, y, z)) + A2(t, x, y, z)*Derivative(g(t, x, y, z), z)/(2*g(t, x, y, z)) - A3(t, x, y, z)*Derivative(g(t, x, y, z), y)/(2*g(t, x, y, z)) + A3(t, x, y, z)*Derivative(g(t, x, y, z), z)/(2*g(t, x, y, z)) + Derivative(A1(t, x, y, z), y) - Derivative(A2(t, x, y, z), x)\n",
      "Field Strength Tensor Component F[2,2]: A0(t, x, y, z)*Derivative(g(t, x, y, z), t)/(2*g(t, x, y, z)) - A0(t, x, y, z)*Derivative(g(t, x, y, z), y)/(2*g(t, x, y, z)) + A1(t, x, y, z)*Derivative(g(t, x, y, z), x)/(2*g(t, x, y, z)) - A1(t, x, y, z)*Derivative(g(t, x, y, z), y)/(2*g(t, x, y, z)) + A2(t, x, y, z)*Derivative(g(t, x, y, z), t)/(2*g(t, x, y, z)) + A2(t, x, y, z)*Derivative(g(t, x, y, z), x)/(2*g(t, x, y, z)) + A2(t, x, y, z)*Derivative(g(t, x, y, z), y)/(2*g(t, x, y, z)) + A2(t, x, y, z)*Derivative(g(t, x, y, z), z)/(2*g(t, x, y, z)) - A3(t, x, y, z)*Derivative(g(t, x, y, z), y)/(2*g(t, x, y, z)) + A3(t, x, y, z)*Derivative(g(t, x, y, z), z)/(2*g(t, x, y, z))\n",
      "Field Strength Tensor Component F[2,3]: A0(t, x, y, z)*Derivative(g(t, x, y, z), t)/(2*g(t, x, y, z)) - A0(t, x, y, z)*Derivative(g(t, x, y, z), y)/(2*g(t, x, y, z)) + A1(t, x, y, z)*Derivative(g(t, x, y, z), x)/(2*g(t, x, y, z)) - A1(t, x, y, z)*Derivative(g(t, x, y, z), y)/(2*g(t, x, y, z)) + A2(t, x, y, z)*Derivative(g(t, x, y, z), t)/(2*g(t, x, y, z)) + A2(t, x, y, z)*Derivative(g(t, x, y, z), x)/(2*g(t, x, y, z)) + A2(t, x, y, z)*Derivative(g(t, x, y, z), y)/(2*g(t, x, y, z)) + A2(t, x, y, z)*Derivative(g(t, x, y, z), z)/(2*g(t, x, y, z)) - A3(t, x, y, z)*Derivative(g(t, x, y, z), y)/(2*g(t, x, y, z)) + A3(t, x, y, z)*Derivative(g(t, x, y, z), z)/(2*g(t, x, y, z)) - Derivative(A2(t, x, y, z), z) + Derivative(A3(t, x, y, z), y)\n",
      "Field Strength Tensor Component F[3,0]: A0(t, x, y, z)*Derivative(g(t, x, y, z), t)/(2*g(t, x, y, z)) - A0(t, x, y, z)*Derivative(g(t, x, y, z), z)/(2*g(t, x, y, z)) + A1(t, x, y, z)*Derivative(g(t, x, y, z), x)/(2*g(t, x, y, z)) - A1(t, x, y, z)*Derivative(g(t, x, y, z), z)/(2*g(t, x, y, z)) + A2(t, x, y, z)*Derivative(g(t, x, y, z), y)/(2*g(t, x, y, z)) - A2(t, x, y, z)*Derivative(g(t, x, y, z), z)/(2*g(t, x, y, z)) + A3(t, x, y, z)*Derivative(g(t, x, y, z), t)/(2*g(t, x, y, z)) + A3(t, x, y, z)*Derivative(g(t, x, y, z), x)/(2*g(t, x, y, z)) + A3(t, x, y, z)*Derivative(g(t, x, y, z), y)/(2*g(t, x, y, z)) + A3(t, x, y, z)*Derivative(g(t, x, y, z), z)/(2*g(t, x, y, z)) + Derivative(A0(t, x, y, z), z) - Derivative(A3(t, x, y, z), t)\n",
      "Field Strength Tensor Component F[3,1]: A0(t, x, y, z)*Derivative(g(t, x, y, z), t)/(2*g(t, x, y, z)) - A0(t, x, y, z)*Derivative(g(t, x, y, z), z)/(2*g(t, x, y, z)) + A1(t, x, y, z)*Derivative(g(t, x, y, z), x)/(2*g(t, x, y, z)) - A1(t, x, y, z)*Derivative(g(t, x, y, z), z)/(2*g(t, x, y, z)) + A2(t, x, y, z)*Derivative(g(t, x, y, z), y)/(2*g(t, x, y, z)) - A2(t, x, y, z)*Derivative(g(t, x, y, z), z)/(2*g(t, x, y, z)) + A3(t, x, y, z)*Derivative(g(t, x, y, z), t)/(2*g(t, x, y, z)) + A3(t, x, y, z)*Derivative(g(t, x, y, z), x)/(2*g(t, x, y, z)) + A3(t, x, y, z)*Derivative(g(t, x, y, z), y)/(2*g(t, x, y, z)) + A3(t, x, y, z)*Derivative(g(t, x, y, z), z)/(2*g(t, x, y, z)) + Derivative(A1(t, x, y, z), z) - Derivative(A3(t, x, y, z), x)\n",
      "Field Strength Tensor Component F[3,2]: A0(t, x, y, z)*Derivative(g(t, x, y, z), t)/(2*g(t, x, y, z)) - A0(t, x, y, z)*Derivative(g(t, x, y, z), z)/(2*g(t, x, y, z)) + A1(t, x, y, z)*Derivative(g(t, x, y, z), x)/(2*g(t, x, y, z)) - A1(t, x, y, z)*Derivative(g(t, x, y, z), z)/(2*g(t, x, y, z)) + A2(t, x, y, z)*Derivative(g(t, x, y, z), y)/(2*g(t, x, y, z)) - A2(t, x, y, z)*Derivative(g(t, x, y, z), z)/(2*g(t, x, y, z)) + A3(t, x, y, z)*Derivative(g(t, x, y, z), t)/(2*g(t, x, y, z)) + A3(t, x, y, z)*Derivative(g(t, x, y, z), x)/(2*g(t, x, y, z)) + A3(t, x, y, z)*Derivative(g(t, x, y, z), y)/(2*g(t, x, y, z)) + A3(t, x, y, z)*Derivative(g(t, x, y, z), z)/(2*g(t, x, y, z)) + Derivative(A2(t, x, y, z), z) - Derivative(A3(t, x, y, z), y)\n",
      "Field Strength Tensor Component F[3,3]: A0(t, x, y, z)*Derivative(g(t, x, y, z), t)/(2*g(t, x, y, z)) - A0(t, x, y, z)*Derivative(g(t, x, y, z), z)/(2*g(t, x, y, z)) + A1(t, x, y, z)*Derivative(g(t, x, y, z), x)/(2*g(t, x, y, z)) - A1(t, x, y, z)*Derivative(g(t, x, y, z), z)/(2*g(t, x, y, z)) + A2(t, x, y, z)*Derivative(g(t, x, y, z), y)/(2*g(t, x, y, z)) - A2(t, x, y, z)*Derivative(g(t, x, y, z), z)/(2*g(t, x, y, z)) + A3(t, x, y, z)*Derivative(g(t, x, y, z), t)/(2*g(t, x, y, z)) + A3(t, x, y, z)*Derivative(g(t, x, y, z), x)/(2*g(t, x, y, z)) + A3(t, x, y, z)*Derivative(g(t, x, y, z), y)/(2*g(t, x, y, z)) + A3(t, x, y, z)*Derivative(g(t, x, y, z), z)/(2*g(t, x, y, z))\n"
     ]
    },
    {
     "data": {
      "image/png": "[encoded data removed]",
      "text/plain": [
       "<Figure size 1200x400 with 6 Axes>"
      ]
     },
     "metadata": {},
     "output_type": "display_data"
    }
   ],
   "source": [
    "import numpy as np\n",
    "import sympy as sp\n",
    "import matplotlib.pyplot as plt\n",
    "\n",
    "# Define the coordinates and metric tensor for a 4-dimensional curved space-time\n",
    "coords = sp.symbols('t x y z')\n",
    "t, x, y, z = coords\n",
    "g = sp.Function('g')(t, x, y, z)\n",
    "\n",
    "# Define the metric tensor (for simplicity, we'll use a symbolic representation)\n",
    "metric = sp.Matrix([\n",
    "    [g, 0, 0, 0],\n",
    "    [0, g, 0, 0],\n",
    "    [0, 0, g, 0],\n",
    "    [0, 0, 0, g]\n",
    "])\n",
    "\n",
    "# Define the inverse metric tensor\n",
    "inv_metric = metric.inv()\n",
    "\n",
    "# Define the Christoffel symbols\n",
    "def christoffel_symbols(g, coords):\n",
    "    gamma = {}\n",
    "    for k in range(4):\n",
    "        for i in range(4):\n",
    "            for j in range(4):\n",
    "                gamma[(k, i, j)] = sp.Rational(1, 2) * sum([inv_metric[k, l] * (sp.diff(g[i, l], coords[j]) + sp.diff(g[j, l], coords[i]) - sp.diff(g[i, j], coords[l])) for l in range(4)])\n",
    "    return gamma\n",
    "\n",
    "# Calculate the Christoffel symbols\n",
    "gamma = christoffel_symbols(metric, coords)\n",
    "\n",
    "# Define the covariant derivative (acting on a vector field A)\n",
    "def covariant_derivative(A, gamma, coords):\n",
    "    nabla_A = sp.zeros(4, 1)\n",
    "    for mu in range(4):\n",
    "        nabla_A[mu] = sp.diff(A[mu], coords[mu]) + sum([gamma[(mu, i, j)] * A[j] for i in range(4) for j in range(4)])\n",
    "    return nabla_A\n",
    "\n",
    "# Example: Define a gauge field A (for simplicity, use symbolic components)\n",
    "A = sp.Matrix([sp.Function('A{}'.format(i))(t, x, y, z) for i in range(4)])\n",
    "\n",
    "# Calculate the covariant derivative of A\n",
    "nabla_A = covariant_derivative(A, gamma, coords)\n",
    "\n",
    "# Print the covariant derivative components\n",
    "for i in range(4):\n",
    "    print(f\"Covariant Derivative Component {i}: {nabla_A[i]}\")\n",
    "\n",
    "# Define the field strength tensor F_{\\mu\\nu}^a in curved space-time\n",
    "def field_strength_tensor(A, gamma, coords):\n",
    "    F = sp.zeros(4, 4)\n",
    "    for mu in range(4):\n",
    "        for nu in range(4):\n",
    "            F[mu, nu] = sp.diff(A[nu], coords[mu]) - sp.diff(A[mu], coords[nu]) + sum([gamma[(mu, i, j)] * A[j] for i in range(4) for j in range(4)])\n",
    "    return F\n",
    "\n",
    "# Calculate the field strength tensor for A\n",
    "F = field_strength_tensor(A, gamma, coords)\n",
    "\n",
    "# Print the field strength tensor components\n",
    "for i in range(4):\n",
    "    for j in range(4):\n",
    "        print(f\"Field Strength Tensor Component F[{i},{j}]: {F[i,j]}\")\n",
    "\n",
    "# Visualize F[1,2] on the (x, y)-slice\n",
    "plt.figure(figsize=(12, 4))\n",
    "\n",
    "plt.subplot(131)\n",
    "plt.contourf(x_vals, y_vals, F_val[1, 2], levels=50, cmap='viridis')\n",
    "plt.colorbar()\n",
    "plt.title('$F_{12}$')\n",
    "\n",
    "plt.subplot(132)\n",
    "plt.contourf(x_vals, y_vals, F_val[2, 3], levels=50, cmap='viridis')\n",
    "plt.colorbar()\n",
    "plt.title('$F_{23}$')\n",
    "\n",
    "plt.subplot(133)\n",
    "plt.contourf(x_vals, y_vals, F_val[3, 1], levels=50, cmap='viridis')\n",
    "plt.colorbar()\n",
    "plt.title('$F_{31}$')\n",
    "\n",
    "plt.suptitle('Field Strength Tensor Components on (x, y) Slice in Curved Space-Time')\n",
    "plt.show()\n",
    "\n"
   ]
  },
  {
   "cell_type": "code",
   "execution_count": null,
   "metadata": {
    "id": "QIsYgdEmSYlF"
   },
   "outputs": [],
   "source": [
    "#F"
   ]
  },
  {
   "cell_type": "code",
   "execution_count": null,
   "metadata": {
    "id": "zKOgkLMaSj8z"
   },
   "outputs": [],
   "source": []
  },
  {
   "cell_type": "code",
   "execution_count": null,
   "metadata": {
    "colab": {
     "base_uri": "https://localhost:8080/"
    },
    "id": "-qyfJFDTSj_b",
    "outputId": "98c7a8b1-722e-41ec-d082-5ce8b09b831a"
   },
   "outputs": [
    {
     "name": "stdout",
     "output_type": "stream",
     "text": [
      "Field strength tensor F_mu_nu in curved space:\n",
      "  3     3                                     \n",
      " ___   ___                                    \n",
      " ╲     ╲                                      \n",
      "  ╲     ╲                                     \n",
      "  ╱     ╱   Aₘᵤ ₐ(μ, b)⋅Aₘᵤ ₐ(ν, c)⋅f(a, b, c)\n",
      " ╱     ╱                                      \n",
      " ‾‾‾   ‾‾‾                                    \n",
      "c = 0 b = 0                                   \n",
      "Field strength tensor F_mu_nu in curved space:\n",
      "  3     3                                     \n",
      " ___   ___                                    \n",
      " ╲     ╲                                      \n",
      "  ╲     ╲                                     \n",
      "  ╱     ╱   Aₘᵤ ₐ(μ, b)⋅Aₘᵤ ₐ(ν, c)⋅f(a, b, c)\n",
      " ╱     ╱                                      \n",
      " ‾‾‾   ‾‾‾                                    \n",
      "c = 0 b = 0                                   \n",
      "\n",
      "Covariant derivative of the spinor field:\n",
      "                3             \n",
      "               ___            \n",
      "               ╲              \n",
      "                ╲             \n",
      "ψ(x, y, z, t)⋅  ╱   Γ(μ, ν, ρ)\n",
      "               ╱              \n",
      "               ‾‾‾            \n",
      "              ν = 0           \n",
      "\n",
      "Dirac operator in curved spacetime:\n",
      "                3                                                             \n",
      "               ___                                                            \n",
      "               ╲                                                              \n",
      "                ╲                                                             \n",
      "ψ(x, y, z, t)⋅  ╱   (Γ(μ, 0, ρ) + Γ(μ, 1, ρ) + Γ(μ, 2, ρ) + Γ(μ, 3, ρ))⋅γₘᵤ(μ)\n",
      "               ╱                                                              \n",
      "               ‾‾‾                                                            \n",
      "              μ = 0                                                           \n"
     ]
    }
   ],
   "source": [
    "import sympy as sp\n",
    "\n",
    "# Symbols and Indices\n",
    "x, y, z, t = sp.symbols(\"x y z t\")  # Spacetime coordinates\n",
    "#mu, nu, rho, sigma = sp.symbols(\"mu nu rho sigma\", integer=True)  # Spacetime indices\n",
    "#a, b = sp.symbols(\"a b\", integer=True)  # Gauge group indices\n",
    "\n",
    "mu, nu, rho, sigma = sp.symbols(\"mu nu rho sigma\", integer=True)  # Spacetime indices\n",
    "a, b, c = sp.symbols(\"a b c\", integer=True)  # Gauge group indices\n",
    "\n",
    "\n",
    "# Metric and its inverse\n",
    "g = sp.Function(\"g\")(mu, nu)  # Metric tensor\n",
    "g_inv = sp.Function(\"g_inv\")(mu, nu)  # Metric inverse\n",
    "\n",
    "# Gauge field strength tensor\n",
    "A = sp.symbols(\"A_mu_a\", cls=sp.Function)  # Gauge potential A(mu, a)  # Gauge potential\n",
    "F = sp.Function(\"F\")(mu, nu, a)  # Field strength tensor\n",
    "D_mu = sp.Function(\"D_mu\")(a)  # Covariant derivative operator\n",
    "\n",
    "# Levi-Civita connection (Christoffel symbols)\n",
    "#Gamma = sp.Function(\"Gamma\")(mu, nu, rho)\n",
    "\n",
    "\n",
    "\n",
    "# Christoffel symbols\n",
    "Gamma = sp.symbols(\"Gamma\", cls=sp.Function)  # Christoffel symbol as a tensor\n",
    "\n",
    "# Spinor field\n",
    "#spinor = sp.Function(\"psi\")(x, y, z, t)  # Spinor field\n",
    "\n",
    "\n",
    "\n",
    "# Define field strength tensor in curved space\n",
    "F_mu_nu = sp.simplify(sp.diff(A(mu, a), nu) - sp.diff(A(nu, a), mu) + sp.Sum(sp.Function(\"f\")(a, b, c) * A(mu, b) * A(nu, c), (b, 0, 3), (c, 0, 3)))\n",
    "\n",
    "# Covariant derivative for a spinor field\n",
    "spinor = sp.Function(\"psi\")(x, y, z, t)  # Spinor field\n",
    "D_spinor = sp.simplify(sp.diff(spinor, mu) + sp.Sum(Gamma(mu, nu, rho) * spinor, (nu, 0, 3)))\n",
    "\n",
    "# Dirac operator in curved spacetime\n",
    "gamma_mu = sp.Function(\"gamma_mu\")(mu)  # Curved spacetime gamma matrices\n",
    "Dirac_operator = sp.simplify(sp.Sum(gamma_mu * D_spinor, (mu, 0, 3)))\n",
    "\n",
    "\n",
    "\n",
    "# Print the results\n",
    "\n",
    "# Print the results\n",
    "\n",
    "print(\"Field strength tensor F_mu_nu in curved space:\")\n",
    "sp.pprint(F_mu_nu, use_unicode=True)\n",
    "\n",
    "print(\"\\nCovariant derivative of the spinor field:\")\n",
    "sp.pprint(D_spinor, use_unicode=True)\n",
    "\n",
    "print(\"\\nDirac operator in curved spacetime:\")\n",
    "sp.pprint(Dirac_operator, use_unicode=True)\n"
   ]
  },
  {
   "cell_type": "code",
   "execution_count": null,
   "metadata": {
    "colab": {
     "base_uri": "https://localhost:8080/",
     "height": 69
    },
    "id": "NNbpb5f-T7r9",
    "outputId": "3163a165-ad36-46f8-d396-eaf9dde1db38"
   },
   "outputs": [
    {
     "data": {
      "text/latex": [
       "$\\displaystyle \\sum_{\\substack{0 \\leq b \\leq 3\\\\0 \\leq c \\leq 3}} A_{\\mu a}{\\left(\\mu,b \\right)} A_{\\mu a}{\\left(\\nu,c \\right)} f{\\left(a,b,c \\right)}$"
      ],
      "text/plain": [
       "Sum(A_mu_a(mu, b)*A_mu_a(nu, c)*f(a, b, c), (b, 0, 3), (c, 0, 3))"
      ]
     },
     "execution_count": 10,
     "metadata": {},
     "output_type": "execute_result"
    }
   ],
   "source": [
    "F_mu_nu"
   ]
  },
  {
   "cell_type": "code",
   "execution_count": null,
   "metadata": {
    "colab": {
     "base_uri": "https://localhost:8080/",
     "height": 69
    },
    "id": "ItdNPGlrT-cV",
    "outputId": "9d412c34-96f9-41fd-9f6e-c50d6f82ac91"
   },
   "outputs": [
    {
     "data": {
      "text/latex": [
       "$\\displaystyle \\psi{\\left(x,y,z,t \\right)} \\sum_{\\nu=0}^{3} \\Gamma{\\left(\\mu,\\nu,\\rho \\right)}$"
      ],
      "text/plain": [
       "psi(x, y, z, t)*Sum(Gamma(mu, nu, rho), (nu, 0, 3))"
      ]
     },
     "execution_count": 11,
     "metadata": {},
     "output_type": "execute_result"
    }
   ],
   "source": [
    "D_spinor"
   ]
  },
  {
   "cell_type": "code",
   "execution_count": null,
   "metadata": {
    "colab": {
     "base_uri": "https://localhost:8080/",
     "height": 71
    },
    "id": "z0uH6O7DUBIO",
    "outputId": "3ba693d0-00bb-438d-bb6c-5107db53c4c1"
   },
   "outputs": [
    {
     "data": {
      "text/latex": [
       "$\\displaystyle \\psi{\\left(x,y,z,t \\right)} \\sum_{\\mu=0}^{3} \\left(\\Gamma{\\left(\\mu,0,\\rho \\right)} + \\Gamma{\\left(\\mu,1,\\rho \\right)} + \\Gamma{\\left(\\mu,2,\\rho \\right)} + \\Gamma{\\left(\\mu,3,\\rho \\right)}\\right) \\gamma_{\\mu}{\\left(\\mu \\right)}$"
      ],
      "text/plain": [
       "psi(x, y, z, t)*Sum((Gamma(mu, 0, rho) + Gamma(mu, 1, rho) + Gamma(mu, 2, rho) + Gamma(mu, 3, rho))*gamma_mu(mu), (mu, 0, 3))"
      ]
     },
     "execution_count": 12,
     "metadata": {},
     "output_type": "execute_result"
    }
   ],
   "source": [
    "Dirac_operator"
   ]
  },
  {
   "cell_type": "code",
   "execution_count": null,
   "metadata": {
    "id": "46DUS5HYV0hI"
   },
   "outputs": [],
   "source": []
  },
  {
   "cell_type": "code",
   "execution_count": null,
   "metadata": {
    "colab": {
     "base_uri": "https://localhost:8080/"
    },
    "id": "IFJgamggXiMv",
    "outputId": "86e1987a-6e95-40c3-e87c-ab213a809df3"
   },
   "outputs": [
    {
     "name": "stdout",
     "output_type": "stream",
     "text": [
      "QCD Lagrangian in Curved Spacetime:\n",
      "                                               ⎛          ⎡-m  0   0   0 ⎤⎞                        ↪\n",
      "                                               ⎜          ⎢              ⎥⎟                        ↪\n",
      "  ________________               _____________ ⎜          ⎢0   -m  0   0 ⎥⎟         ______________ ↪\n",
      "╲╱ -g(x, y, z, t) ⋅ψ(t, x, y, z)⋅ψ(t, x, y, z)⋅⎜ⅈ⋅γ⋅Dₘᵤ + ⎢              ⎥⎟ -0.25⋅╲╱ -g(x, y, z, t ↪\n",
      "                                               ⎜          ⎢0   0   -m  0 ⎥⎟                        ↪\n",
      "                                               ⎜          ⎢              ⎥⎟                        ↪\n",
      "                                               ⎝          ⎣0   0   0   -m⎦⎠                        ↪\n",
      "\n",
      "↪                  \n",
      "↪                  \n",
      "↪ __       T       \n",
      "↪ ) ⋅Gₘᵤ ₙᵤ ⋅Gₘᵤ ₙᵤ\n",
      "↪                  \n",
      "↪                  \n",
      "↪                  \n",
      "\n",
      "Equations of Motion for Quarks:\n",
      "                                                                                 ⎛          ⎡-m  0 ↪\n",
      "                                                                                 ⎜          ⎢      ↪\n",
      "  ________________ ⎛                    ∂       ⎛_____________⎞   _____________⎞ ⎜          ⎢0   - ↪\n",
      "╲╱ -g(x, y, z, t) ⋅⎜ψ(t, x, y, z)⋅──────────────⎝ψ(t, x, y, z)⎠ + ψ(t, x, y, z)⎟⋅⎜ⅈ⋅γ⋅Dₘᵤ + ⎢      ↪\n",
      "                   ⎝              ∂ψ(t, x, y, z)                               ⎠ ⎜          ⎢0   0 ↪\n",
      "                                                                                 ⎜          ⎢      ↪\n",
      "                                                                                 ⎝          ⎣0   0 ↪\n",
      "\n",
      "↪    0   0 ⎤⎞\n",
      "↪          ⎥⎟\n",
      "↪ m  0   0 ⎥⎟\n",
      "↪          ⎥⎟\n",
      "↪    -m  0 ⎥⎟\n",
      "↪          ⎥⎟\n",
      "↪    0   -m⎦⎠\n",
      "\n",
      "Equations of Motion for Gluons:\n",
      "𝟘\n"
     ]
    }
   ],
   "source": [
    "# Define spacetime and metric\n",
    "x, y, z, t = sp.symbols('x y z t')\n",
    "coords = (t, x, y, z)\n",
    "g = sp.Function('g')(x, y, z, t)  # Metric determinant sqrt(-g)\n",
    "\n",
    "# Define fields\n",
    "psi = sp.Function('psi')(t, x, y, z)  # Quark field\n",
    "A_mu = sp.Function('A_mu')(t, x, y, z)  # Gluon field (now a vector field)\n",
    "\n",
    "# Gamma matrices and other terms remain the same\n",
    "gamma_mu = sp.MatrixSymbol('gamma', 4, 4)  # Gamma matrices\n",
    "D_mu = sp.MatrixSymbol('D_mu', 4, 4)  # Covariant derivative (MatrixSymbol here)\n",
    "\n",
    "# Gluon field strength tensor remains a MatrixSymbol\n",
    "G_mu_nu = sp.MatrixSymbol('G_mu_nu', 4, 4)\n",
    "\n",
    "# Lagrangian components remain the same\n",
    "mass = sp.symbols('m')\n",
    "g_s = sp.symbols('g_s')  # Strong coupling constant\n",
    "\n",
    "# Quark and gluon Lagrangians\n",
    "L_quark = sp.sqrt(-g) * (sp.conjugate(psi) @ (sp.I * gamma_mu @ D_mu - mass * sp.eye(4)) @ psi)\n",
    "L_gluon = -sp.sqrt(-g) * (1 / 4) * (G_mu_nu.T @ G_mu_nu)\n",
    "\n",
    "# Total Lagrangian\n",
    "L_qcd = L_quark + L_gluon\n",
    "\n",
    "# Euler-Lagrange equations\n",
    "def euler_lagrange(L, field):\n",
    "    \"\"\"Compute the Euler-Lagrange equation for a given Lagrangian and field.\"\"\"\n",
    "    dL_dfield = sp.diff(L, field)  # Partial derivative w.r.t. the field\n",
    "    dL_dfield_deriv = sp.diff(L, sp.diff(field, t))  # Partial derivative w.r.t. the field's time derivative\n",
    "    return sp.simplify(dL_dfield - sp.diff(dL_dfield_deriv, t))\n",
    "\n",
    "# Derive equations of motion\n",
    "EOM_quark = euler_lagrange(L_qcd, psi)\n",
    "EOM_gluon = euler_lagrange(L_qcd, A_mu)\n",
    "\n",
    "# Output results\n",
    "print(\"QCD Lagrangian in Curved Spacetime:\")\n",
    "sp.pprint(L_qcd)\n",
    "print(\"\\nEquations of Motion for Quarks:\")\n",
    "sp.pprint(EOM_quark)\n",
    "print(\"\\nEquations of Motion for Gluons:\")\n",
    "sp.pprint(EOM_gluon)\n"
   ]
  },
  {
   "cell_type": "code",
   "execution_count": null,
   "metadata": {
    "colab": {
     "base_uri": "https://localhost:8080/",
     "height": 98
    },
    "id": "3QAsse8GXleo",
    "outputId": "b213f276-adcb-4a86-cdae-714fe5eabc0c"
   },
   "outputs": [
    {
     "data": {
      "text/latex": [
       "$\\displaystyle \\sqrt{- g{\\left(x,y,z,t \\right)}} \\left(\\psi{\\left(t,x,y,z \\right)} \\frac{\\partial}{\\partial \\psi{\\left(t,x,y,z \\right)}} \\overline{\\psi{\\left(t,x,y,z \\right)}} + \\overline{\\psi{\\left(t,x,y,z \\right)}}\\right) \\left(\\left[\\begin{matrix}- m & 0 & 0 & 0\\\\0 & - m & 0 & 0\\\\0 & 0 & - m & 0\\\\0 & 0 & 0 & - m\\end{matrix}\\right] + i \\gamma D_{\\mu}\\right)$"
      ],
      "text/plain": [
       "(sqrt(-g(x, y, z, t))*(psi(t, x, y, z)*Derivative(conjugate(psi(t, x, y, z)), psi(t, x, y, z)) + conjugate(psi(t, x, y, z))))*(Matrix([\n",
       "[-m,  0,  0,  0],\n",
       "[ 0, -m,  0,  0],\n",
       "[ 0,  0, -m,  0],\n",
       "[ 0,  0,  0, -m]]) + I*gamma*D_mu)"
      ]
     },
     "execution_count": 30,
     "metadata": {},
     "output_type": "execute_result"
    }
   ],
   "source": [
    "EOM_quark"
   ]
  }
 ],
 "metadata": {
  "colab": {
   "provenance": []
  },
  "kernelspec": {
   "display_name": "Python 3 (ipykernel)",
   "language": "python",
   "name": "python3"
  },
  "language_info": {
   "codemirror_mode": {
    "name": "ipython",
    "version": 3
   },
   "file_extension": ".py",
   "mimetype": "text/x-python",
   "name": "python",
   "nbconvert_exporter": "python",
   "pygments_lexer": "ipython3",
   "version": "3.12.2"
  }
 },
 "nbformat": 4,
 "nbformat_minor": 4
}
